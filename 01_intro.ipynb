{
 "cells": [
  {
   "cell_type": "markdown",
   "id": "47a95eb8-89cb-4e6c-b384-fc6bf86b917d",
   "metadata": {},
   "source": [
    "# 01. Intro\n",
    "\n",
    "## shortcut\n",
    "- ctrl + enter : 지금 현재 셀 실행\n",
    "- shift + enter : 현재 셀 실행 + 아래로 이동\n",
    "- alt + enter : 현재 셀 실행 + 아래에 새로운 셀 추가\n",
    "\n",
    "## 주의사항\n",
    "\n",
    "1. Apple / apple (대.소문자 구분 다른의미)\n",
    "2. git add . / git add. (띄어쓰기 구분 다른 의미)\n",
    "3. message / massage (오탈자 확인)"
   ]
  },
  {
   "cell_type": "code",
   "execution_count": 65,
   "id": "cd97fbeb-be5f-445b-b2d1-4d8e71258926",
   "metadata": {},
   "outputs": [],
   "source": [
    "#(주석) 해당 줄에 ctrl + /"
   ]
  },
  {
   "cell_type": "code",
   "execution_count": null,
   "id": "f0e67bf3-0edc-401b-a08a-b497c81dc687",
   "metadata": {},
   "outputs": [],
   "source": []
  },
  {
   "cell_type": "markdown",
   "id": "45dc0f3f-eab2-4256-aaa8-0751afdcecc5",
   "metadata": {},
   "source": [
    "## 1. 변수\n",
    "\n",
    "변수이름 = 값\n",
    "\n",
    "- 변수이름은 어떤 이름이든 사용가능(명시적인 이름)\n",
    "- 영어(소문자, 예외로 대문자->변함이 없는 데이터), 숫자, _(2개 이상의 단어 연결) 를 이용하여 선언\n",
    "- 키워드는 사용 불가(파이썬을 동작하기 위해서 규칙을 만들어 놓은 언어)\n",
    "  "
   ]
  },
  {
   "cell_type": "code",
   "execution_count": 23,
   "id": "12fb08dc-748e-4d0b-8285-f2205699666f",
   "metadata": {},
   "outputs": [],
   "source": [
    "a = 30"
   ]
  },
  {
   "cell_type": "code",
   "execution_count": 24,
   "id": "328f1da5-f2d2-4f6f-8c83-2a4f61e0133b",
   "metadata": {},
   "outputs": [
    {
     "data": {
      "text/plain": [
       "30"
      ]
     },
     "execution_count": 24,
     "metadata": {},
     "output_type": "execute_result"
    }
   ],
   "source": [
    "a"
   ]
  },
  {
   "cell_type": "code",
   "execution_count": 25,
   "id": "1f7327d9-9a71-4d22-8dd6-1074d23eefae",
   "metadata": {},
   "outputs": [
    {
     "data": {
      "text/plain": [
       "['False',\n",
       " 'None',\n",
       " 'True',\n",
       " 'and',\n",
       " 'as',\n",
       " 'assert',\n",
       " 'async',\n",
       " 'await',\n",
       " 'break',\n",
       " 'class',\n",
       " 'continue',\n",
       " 'def',\n",
       " 'del',\n",
       " 'elif',\n",
       " 'else',\n",
       " 'except',\n",
       " 'finally',\n",
       " 'for',\n",
       " 'from',\n",
       " 'global',\n",
       " 'if',\n",
       " 'import',\n",
       " 'in',\n",
       " 'is',\n",
       " 'lambda',\n",
       " 'nonlocal',\n",
       " 'not',\n",
       " 'or',\n",
       " 'pass',\n",
       " 'raise',\n",
       " 'return',\n",
       " 'try',\n",
       " 'while',\n",
       " 'with',\n",
       " 'yield']"
      ]
     },
     "execution_count": 25,
     "metadata": {},
     "output_type": "execute_result"
    }
   ],
   "source": [
    "# 키워드 \n",
    "import keyword\n",
    "keyword.kwlist"
   ]
  },
  {
   "cell_type": "code",
   "execution_count": 26,
   "id": "5b06a90b-f84e-41d8-8534-ff592e1eb606",
   "metadata": {},
   "outputs": [],
   "source": [
    "seoul_dust_rate = 10"
   ]
  },
  {
   "cell_type": "markdown",
   "id": "cec3a423-8ac5-4f18-9e0e-d595b12140a8",
   "metadata": {},
   "source": [
    "### 1.1 Number"
   ]
  },
  {
   "cell_type": "code",
   "execution_count": 27,
   "id": "7422a8f5-c725-43a0-b0ef-768a91d719fb",
   "metadata": {},
   "outputs": [],
   "source": [
    "a = 100000"
   ]
  },
  {
   "cell_type": "code",
   "execution_count": 28,
   "id": "b443d676-1f4a-4b4c-87cd-023a008a1fb5",
   "metadata": {},
   "outputs": [
    {
     "data": {
      "text/plain": [
       "100000"
      ]
     },
     "execution_count": 28,
     "metadata": {},
     "output_type": "execute_result"
    }
   ],
   "source": [
    "a"
   ]
  },
  {
   "cell_type": "code",
   "execution_count": 29,
   "id": "b3e6e744-e815-42bf-88c9-e87bb5daba45",
   "metadata": {},
   "outputs": [
    {
     "data": {
      "text/plain": [
       "int"
      ]
     },
     "execution_count": 29,
     "metadata": {},
     "output_type": "execute_result"
    }
   ],
   "source": [
    "type(a)"
   ]
  },
  {
   "cell_type": "code",
   "execution_count": 30,
   "id": "d8362415-9db5-4ba2-935b-0a33647dbccb",
   "metadata": {},
   "outputs": [],
   "source": [
    "b = 1.1"
   ]
  },
  {
   "cell_type": "code",
   "execution_count": 31,
   "id": "550b8b28-cb83-4c52-80d3-a18d6100e356",
   "metadata": {},
   "outputs": [
    {
     "data": {
      "text/plain": [
       "1.1"
      ]
     },
     "execution_count": 31,
     "metadata": {},
     "output_type": "execute_result"
    }
   ],
   "source": [
    "b"
   ]
  },
  {
   "cell_type": "code",
   "execution_count": 32,
   "id": "5f0be9dd-0c00-46e3-a113-946b4755cf13",
   "metadata": {},
   "outputs": [
    {
     "data": {
      "text/plain": [
       "float"
      ]
     },
     "execution_count": 32,
     "metadata": {},
     "output_type": "execute_result"
    }
   ],
   "source": [
    "type(b)"
   ]
  },
  {
   "cell_type": "code",
   "execution_count": 33,
   "id": "992ebdf7-e940-4036-92e5-7b886803e2f8",
   "metadata": {},
   "outputs": [],
   "source": [
    "c = 1 - 4j"
   ]
  },
  {
   "cell_type": "code",
   "execution_count": 34,
   "id": "cb2a07ea-d83f-4d21-8894-b5aded21dc63",
   "metadata": {},
   "outputs": [
    {
     "data": {
      "text/plain": [
       "(1-4j)"
      ]
     },
     "execution_count": 34,
     "metadata": {},
     "output_type": "execute_result"
    }
   ],
   "source": [
    "c"
   ]
  },
  {
   "cell_type": "code",
   "execution_count": 35,
   "id": "90febfa2-ef54-4632-87b7-bae8188da453",
   "metadata": {},
   "outputs": [
    {
     "data": {
      "text/plain": [
       "complex"
      ]
     },
     "execution_count": 35,
     "metadata": {},
     "output_type": "execute_result"
    }
   ],
   "source": [
    "type(c)"
   ]
  },
  {
   "cell_type": "markdown",
   "id": "f29b5639-69bf-4e98-9912-f10f4696c96f",
   "metadata": {},
   "source": [
    "### 1.2 Boolean\n",
    "\n",
    "True, False로 이루어진 타입"
   ]
  },
  {
   "cell_type": "code",
   "execution_count": 43,
   "id": "81bc13bb-15f7-4701-9642-106970a76592",
   "metadata": {},
   "outputs": [],
   "source": [
    "a = True"
   ]
  },
  {
   "cell_type": "code",
   "execution_count": 44,
   "id": "efcaf79f-0832-4a2b-9c2a-3b27f2801c7d",
   "metadata": {},
   "outputs": [
    {
     "data": {
      "text/plain": [
       "True"
      ]
     },
     "execution_count": 44,
     "metadata": {},
     "output_type": "execute_result"
    }
   ],
   "source": [
    "a"
   ]
  },
  {
   "cell_type": "code",
   "execution_count": 45,
   "id": "beda8690-29c3-4da0-aa92-06ed7a4c1ef9",
   "metadata": {},
   "outputs": [
    {
     "data": {
      "text/plain": [
       "bool"
      ]
     },
     "execution_count": 45,
     "metadata": {},
     "output_type": "execute_result"
    }
   ],
   "source": [
    "type(a)"
   ]
  },
  {
   "cell_type": "code",
   "execution_count": 46,
   "id": "c3032f12-6559-4893-bf8e-f9accce90f92",
   "metadata": {},
   "outputs": [],
   "source": [
    "b = False"
   ]
  },
  {
   "cell_type": "code",
   "execution_count": 47,
   "id": "78955fb7-1b70-423a-ad01-4d41006f080d",
   "metadata": {},
   "outputs": [
    {
     "data": {
      "text/plain": [
       "False"
      ]
     },
     "execution_count": 47,
     "metadata": {},
     "output_type": "execute_result"
    }
   ],
   "source": [
    "b"
   ]
  },
  {
   "cell_type": "code",
   "execution_count": 49,
   "id": "09533aa1-1062-47e4-8067-701c50cfe5a3",
   "metadata": {},
   "outputs": [
    {
     "data": {
      "text/plain": [
       "bool"
      ]
     },
     "execution_count": 49,
     "metadata": {},
     "output_type": "execute_result"
    }
   ],
   "source": [
    "type(b)"
   ]
  },
  {
   "cell_type": "markdown",
   "id": "0062d797-93b9-48b1-96dd-06c043096ca5",
   "metadata": {},
   "source": [
    "### 1.3 None\n",
    "(데이터가 없음)"
   ]
  },
  {
   "cell_type": "code",
   "execution_count": 52,
   "id": "c02f50ea-dc63-4b77-b395-03d506106d1b",
   "metadata": {},
   "outputs": [],
   "source": [
    "a = None"
   ]
  },
  {
   "cell_type": "code",
   "execution_count": 53,
   "id": "2f5b4398-7b22-4cf6-9e98-0fde7b6e4ce2",
   "metadata": {},
   "outputs": [
    {
     "data": {
      "text/plain": [
       "NoneType"
      ]
     },
     "execution_count": 53,
     "metadata": {},
     "output_type": "execute_result"
    }
   ],
   "source": [
    "type(a)"
   ]
  },
  {
   "cell_type": "markdown",
   "id": "71801178-5557-4682-876e-29455bee40c7",
   "metadata": {},
   "source": [
    "### 1.4 String\n",
    "\n",
    "- 문자열은 `'` , `\"` 를 이용하여 표현\n",
    "- 통일성 있게 사용 `'` , `\"` (상황에 맞춰서)"
   ]
  },
  {
   "cell_type": "code",
   "execution_count": 54,
   "id": "4d28ae24-61a5-4b93-a682-799d140f46b7",
   "metadata": {},
   "outputs": [],
   "source": [
    "a = 'hello'"
   ]
  },
  {
   "cell_type": "code",
   "execution_count": 55,
   "id": "fccddea4-9471-4201-a196-9eefa6bc86cf",
   "metadata": {},
   "outputs": [
    {
     "data": {
      "text/plain": [
       "str"
      ]
     },
     "execution_count": 55,
     "metadata": {},
     "output_type": "execute_result"
    }
   ],
   "source": [
    "type(a)"
   ]
  },
  {
   "cell_type": "code",
   "execution_count": 56,
   "id": "09582686-af47-4823-8690-f504191eee95",
   "metadata": {},
   "outputs": [],
   "source": [
    "b = \"world\""
   ]
  },
  {
   "cell_type": "code",
   "execution_count": 57,
   "id": "23d02684-9bf1-4cd7-98c1-1a1281a92263",
   "metadata": {},
   "outputs": [
    {
     "data": {
      "text/plain": [
       "str"
      ]
     },
     "execution_count": 57,
     "metadata": {},
     "output_type": "execute_result"
    }
   ],
   "source": [
    "type(b)"
   ]
  },
  {
   "cell_type": "code",
   "execution_count": 63,
   "id": "422ce33b-ab16-4abd-b055-53ffd12463e9",
   "metadata": {},
   "outputs": [
    {
     "name": "stdin",
     "output_type": "stream",
     "text": [
      " 123\n"
     ]
    },
    {
     "name": "stdout",
     "output_type": "stream",
     "text": [
      "123\n",
      "<class 'str'>\n"
     ]
    }
   ],
   "source": [
    "# input() 사용자가 입력하는 데이터 (무조건 문자형태를 갖음)\n",
    "age = input()\n",
    "print(age)\n",
    "print(type(age))"
   ]
  },
  {
   "cell_type": "code",
   "execution_count": 66,
   "id": "bd83f6cf-abdb-494f-ac69-df5a36636874",
   "metadata": {},
   "outputs": [
    {
     "name": "stdout",
     "output_type": "stream",
     "text": [
      "안녕하세요 '김주미'입니다.\n",
      "안녕하세요 \"김주미\"입니다.\n"
     ]
    }
   ],
   "source": [
    "# print('안녕하세요 '김주미'입니다.')\n",
    "print(\"안녕하세요 '김주미'입니다.\")\n",
    "print('안녕하세요 \"김주미\"입니다.')"
   ]
  },
  {
   "cell_type": "code",
   "execution_count": 73,
   "id": "6a211c15-5b1a-4542-a9e0-09f316e5dca5",
   "metadata": {},
   "outputs": [
    {
     "name": "stdout",
     "output_type": "stream",
     "text": [
      "안녕하세요. '김주미'입니다.\n"
     ]
    }
   ],
   "source": [
    "# 이스케이프 문자열 \\사용\n",
    "print('안녕하세요. \\'김주미\\'입니다.')"
   ]
  },
  {
   "cell_type": "code",
   "execution_count": 70,
   "id": "f278ecc0-e11f-4b7c-8ef8-47023a079bda",
   "metadata": {},
   "outputs": [
    {
     "name": "stdout",
     "output_type": "stream",
     "text": [
      "\n",
      "안녕하세요 '김주미'입니다.\n",
      "여러줄도 작성 가능합니다.\n",
      "\n"
     ]
    }
   ],
   "source": [
    "# doc string 여러줄의 데이터를 한번에 작성할 수 있게 도와줌 ''' 문자열 ''' \n",
    "a = '''\n",
    "안녕하세요 '김주미'입니다.\n",
    "여러줄도 작성 가능합니다.\n",
    "'''\n",
    "print(a)"
   ]
  },
  {
   "cell_type": "code",
   "execution_count": 72,
   "id": "f2dc6eb3-17f2-45ca-940e-7db13cfc14b4",
   "metadata": {},
   "outputs": [
    {
     "name": "stdout",
     "output_type": "stream",
     "text": [
      "안녕하세요. \n",
      "김주미입니다. \t들여쓰기 이스케이프 문자열입니다\n"
     ]
    }
   ],
   "source": [
    "print('안녕하세요. \\n김주미입니다. \\t들여쓰기 이스케이프 문자열입니다')"
   ]
  },
  {
   "cell_type": "markdown",
   "id": "96580f3b-3122-4ff4-a3ea-0f328003698f",
   "metadata": {},
   "source": [
    "#### string interpolation\n",
    "문자열 안에 변수를 넣는 방법\n",
    "1. %-formatting\n",
    "2. str.format()\n",
    "3. f-string"
   ]
  },
  {
   "cell_type": "code",
   "execution_count": 74,
   "id": "1d3fcbff-e32a-4820-a970-5fa4e4a3afe7",
   "metadata": {},
   "outputs": [],
   "source": [
    "age = 10"
   ]
  },
  {
   "cell_type": "code",
   "execution_count": 75,
   "id": "a28623ca-e64a-4eb2-aaf5-fe11d1f9250a",
   "metadata": {},
   "outputs": [
    {
     "name": "stdout",
     "output_type": "stream",
     "text": [
      "홍길동은 10살 입니다.\n"
     ]
    }
   ],
   "source": [
    "print('홍길동은 %s살 입니다.' % age)"
   ]
  },
  {
   "cell_type": "code",
   "execution_count": 76,
   "id": "1a76a4ab-7035-4c94-9485-edeb0edd78f3",
   "metadata": {},
   "outputs": [
    {
     "name": "stdout",
     "output_type": "stream",
     "text": [
      "홍길동은 10살 입니다.\n"
     ]
    }
   ],
   "source": [
    "print('홍길동은 {}살 입니다.'.format(age))"
   ]
  },
  {
   "cell_type": "code",
   "execution_count": 77,
   "id": "09e38ab6-98b6-44f7-9a98-b24a6824bd2d",
   "metadata": {},
   "outputs": [
    {
     "name": "stdout",
     "output_type": "stream",
     "text": [
      "홍길동은 10살 입니다.\n"
     ]
    }
   ],
   "source": [
    "print(f'홍길동은 {age}살 입니다.')"
   ]
  },
  {
   "cell_type": "markdown",
   "id": "269d97a7-508b-41f2-810e-fd87af8b8bbf",
   "metadata": {},
   "source": [
    "## 2. 연산자\n",
    "\n",
    "### 2.1 산술연산자\n"
   ]
  },
  {
   "cell_type": "code",
   "execution_count": 80,
   "id": "1b87f9bf-84bf-440e-9a23-1783e7f18eef",
   "metadata": {},
   "outputs": [],
   "source": [
    "a = 7\n",
    "b = 3"
   ]
  },
  {
   "cell_type": "code",
   "execution_count": 85,
   "id": "ef86bd29-9f8c-462a-8087-140ac29f0118",
   "metadata": {},
   "outputs": [
    {
     "name": "stdout",
     "output_type": "stream",
     "text": [
      "15\n",
      "-5\n",
      "50\n",
      "0.5\n",
      "9765625\n"
     ]
    }
   ],
   "source": [
    "print(a + b)\n",
    "print(a - b)\n",
    "print(a * b)\n",
    "print(a / b)\n",
    "print(a ** b)"
   ]
  },
  {
   "cell_type": "code",
   "execution_count": 86,
   "id": "7f63c3f8-3b89-4e46-836c-63792227f527",
   "metadata": {},
   "outputs": [
    {
     "name": "stdout",
     "output_type": "stream",
     "text": [
      "0\n",
      "5\n",
      "(0, 5)\n"
     ]
    }
   ],
   "source": [
    "print(a // b) # 몫\n",
    "print(a % b) # 나머지 \n",
    "\n",
    "print(divmod(a , b)) # 몫과 나머지 같이 출력해주는 함수"
   ]
  },
  {
   "cell_type": "markdown",
   "id": "9c9274e1-2504-4f41-8996-530ab985feff",
   "metadata": {},
   "source": [
    "### 2.2 비교연산자"
   ]
  },
  {
   "cell_type": "code",
   "execution_count": 87,
   "id": "2b69e5a5-f34d-4726-9e6b-4725446af447",
   "metadata": {},
   "outputs": [],
   "source": [
    "a = 5\n",
    "b = 10"
   ]
  },
  {
   "cell_type": "code",
   "execution_count": 89,
   "id": "9dbc9aa6-3e65-481d-a980-020ed1aaeaf3",
   "metadata": {},
   "outputs": [
    {
     "name": "stdout",
     "output_type": "stream",
     "text": [
      "False\n",
      "True\n",
      "True\n",
      "False\n"
     ]
    }
   ],
   "source": [
    "print(a > b)\n",
    "print(a < b)\n",
    "print(a <= b)\n",
    "print(a >= b)"
   ]
  },
  {
   "cell_type": "code",
   "execution_count": 90,
   "id": "ae049e1e-c444-46d9-a9c1-99b01595f317",
   "metadata": {},
   "outputs": [
    {
     "name": "stdout",
     "output_type": "stream",
     "text": [
      "False\n",
      "True\n"
     ]
    }
   ],
   "source": [
    "print(a == b)\n",
    "print(a != b)"
   ]
  },
  {
   "cell_type": "code",
   "execution_count": 92,
   "id": "8e112bdc-f6a1-4527-ac84-c27c0999164f",
   "metadata": {},
   "outputs": [
    {
     "name": "stdout",
     "output_type": "stream",
     "text": [
      "True\n",
      "False\n"
     ]
    }
   ],
   "source": [
    "print('hi' == 'hi')\n",
    "print('hi' == 'Hi')"
   ]
  },
  {
   "cell_type": "markdown",
   "id": "31283820-53d6-424c-92f1-a6af33b8769f",
   "metadata": {},
   "source": [
    "### 2.3 논리 연산자\n",
    "\n",
    "- and : 양쪽 모두 True 일 때 True를 반환\n",
    "- or : 양쪽 모두 False 일 때 False를 반환\n",
    "- not : 값을 반대로 전환"
   ]
  },
  {
   "cell_type": "code",
   "execution_count": 95,
   "id": "975098bd-eee2-4635-a18d-93824360e70f",
   "metadata": {},
   "outputs": [
    {
     "name": "stdout",
     "output_type": "stream",
     "text": [
      "True\n",
      "False\n",
      "False\n",
      "False\n"
     ]
    }
   ],
   "source": [
    "print(True and True)\n",
    "print(True and False)\n",
    "print(False and True)\n",
    "print(False and False)"
   ]
  },
  {
   "cell_type": "code",
   "execution_count": 96,
   "id": "08eeb0ea-c0d7-4683-9128-b6f359800db8",
   "metadata": {},
   "outputs": [
    {
     "name": "stdout",
     "output_type": "stream",
     "text": [
      "True\n",
      "True\n",
      "True\n",
      "False\n"
     ]
    }
   ],
   "source": [
    "print(True or True)\n",
    "print(True or False)\n",
    "print(False or True)\n",
    "print(False or False)"
   ]
  },
  {
   "cell_type": "code",
   "execution_count": 98,
   "id": "b162430a-9d50-496a-8c76-70a258b131a9",
   "metadata": {},
   "outputs": [
    {
     "name": "stdout",
     "output_type": "stream",
     "text": [
      "False\n"
     ]
    }
   ],
   "source": [
    "result = True\n",
    "print(not result)"
   ]
  },
  {
   "cell_type": "code",
   "execution_count": 102,
   "id": "a4bf5fae-b940-41f6-9fad-84a47368cbd4",
   "metadata": {},
   "outputs": [
    {
     "name": "stdout",
     "output_type": "stream",
     "text": [
      "5\n",
      "0\n",
      "0\n",
      "0\n"
     ]
    }
   ],
   "source": [
    "# 단축 평가(and)\n",
    "# and 연산은 앞에 있는 대상이 True 일 경우 뒤에 있는 대상을 반환 \n",
    "print(3 and 5)\n",
    "print(3 and 0)\n",
    "print(0 and 3)\n",
    "print(0 and 0)"
   ]
  },
  {
   "cell_type": "code",
   "execution_count": 103,
   "id": "359864e9-68b9-4973-b308-7c207d9b3fb2",
   "metadata": {},
   "outputs": [
    {
     "name": "stdout",
     "output_type": "stream",
     "text": [
      "3\n",
      "3\n",
      "3\n",
      "0\n"
     ]
    }
   ],
   "source": [
    "# 단축 평가(or)\n",
    "# or \n",
    "print(3 or 5)\n",
    "print(3 or 0)\n",
    "print(0 or 3)\n",
    "print(0 or 0)"
   ]
  },
  {
   "cell_type": "markdown",
   "id": "bcf68700-8cd2-47bd-a67d-5dd62773b7ee",
   "metadata": {},
   "source": [
    "### 2.4 복합연산자\n",
    "연산을 반복 할 때 사용"
   ]
  },
  {
   "cell_type": "code",
   "execution_count": 104,
   "id": "5e498d29-d532-4c5f-931a-71a2ed38f640",
   "metadata": {},
   "outputs": [],
   "source": [
    "a = 1\n",
    "b = 2"
   ]
  },
  {
   "cell_type": "code",
   "execution_count": 106,
   "id": "a0e10365-8c8c-4b3c-9ad3-296e0ead1074",
   "metadata": {},
   "outputs": [],
   "source": [
    "a = a + b\n",
    "a = a - b\n",
    "a = a * b\n",
    "a = a / b"
   ]
  },
  {
   "cell_type": "code",
   "execution_count": 107,
   "id": "1cd69383-9874-4153-a587-0ed242305cd0",
   "metadata": {},
   "outputs": [],
   "source": [
    "a += b\n",
    "a -= b\n",
    "a *= b\n",
    "a /= b\n",
    "a **= b\n",
    "a %= b\n",
    "a //= b"
   ]
  },
  {
   "cell_type": "markdown",
   "id": "abc543ee-0cfc-4afb-bc1f-8509ebb62ff0",
   "metadata": {},
   "source": [
    "### 2.5 기타 연산자"
   ]
  },
  {
   "cell_type": "code",
   "execution_count": 108,
   "id": "5857ec5e-2378-4c5e-8737-a1811468beed",
   "metadata": {},
   "outputs": [],
   "source": [
    "a = 'hi'\n",
    "b = 'hello'"
   ]
  },
  {
   "cell_type": "code",
   "execution_count": 109,
   "id": "32ddd1a7-dbc4-4472-9a5c-e580adc29a51",
   "metadata": {},
   "outputs": [
    {
     "name": "stdout",
     "output_type": "stream",
     "text": [
      "hihello\n"
     ]
    }
   ],
   "source": [
    "# concatenation(연결)\n",
    "print(a + b)"
   ]
  },
  {
   "cell_type": "code",
   "execution_count": 110,
   "id": "fe8e06b3-4b6a-44ca-8c54-49815006ae9f",
   "metadata": {},
   "outputs": [],
   "source": [
    "a = [1, 2, 3]\n",
    "b = [4, 5, 6]"
   ]
  },
  {
   "cell_type": "code",
   "execution_count": 111,
   "id": "d8a91c33-f933-4c08-85dd-7af36321c848",
   "metadata": {},
   "outputs": [
    {
     "name": "stdout",
     "output_type": "stream",
     "text": [
      "[1, 2, 3, 4, 5, 6]\n"
     ]
    }
   ],
   "source": [
    "print(a + b)"
   ]
  },
  {
   "cell_type": "code",
   "execution_count": 114,
   "id": "82108b36-9ead-4cb7-be45-854078f858ba",
   "metadata": {},
   "outputs": [
    {
     "name": "stdout",
     "output_type": "stream",
     "text": [
      "True\n",
      "False\n"
     ]
    }
   ],
   "source": [
    "# containment (포함하는가?)\n",
    "print(1 in a)\n",
    "print(10 in a)"
   ]
  },
  {
   "cell_type": "code",
   "execution_count": 116,
   "id": "10ced9b6-7554-416f-ae88-d980d4e63480",
   "metadata": {},
   "outputs": [
    {
     "name": "stdout",
     "output_type": "stream",
     "text": [
      "True\n",
      "True\n"
     ]
    }
   ],
   "source": [
    "# identity\n",
    "# is 메모리의 값 비교\n",
    "# 메모리 : 데이터가 저장된 임시 공간 \n",
    "# -5 ~ 256 같은 메모리 값을 가지는 수 (자주 사용하는 수) \n",
    "a = 5\n",
    "b = 5\n",
    "\n",
    "print(a == b)\n",
    "print(a is b)"
   ]
  },
  {
   "cell_type": "code",
   "execution_count": 117,
   "id": "161c755e-287d-4f86-8184-596247083583",
   "metadata": {},
   "outputs": [
    {
     "name": "stdout",
     "output_type": "stream",
     "text": [
      "True\n",
      "False\n"
     ]
    }
   ],
   "source": [
    "a = 123123\n",
    "b = 123123\n",
    "\n",
    "print(a == b)\n",
    "print(a is b)"
   ]
  },
  {
   "cell_type": "markdown",
   "id": "c56b60ad-a773-4c1d-a604-4c3460726d88",
   "metadata": {},
   "source": [
    "#### 우선순위\n",
    "\n",
    "0. ()를 통해서 그룹\n",
    "1. **\n",
    "2. 산술 연산자 (*, /)\n",
    "3. 산술 연산자 (+, -)\n",
    "4. 비교 연산자, in, is\n",
    "5. not\n",
    "6. and\n",
    "7. or"
   ]
  },
  {
   "cell_type": "code",
   "execution_count": 119,
   "id": "b167ef8d-aa1b-4339-9c64-c2f35e6cdafd",
   "metadata": {},
   "outputs": [
    {
     "name": "stdout",
     "output_type": "stream",
     "text": [
      "-81\n",
      "81\n"
     ]
    }
   ],
   "source": [
    "print(-3 ** 4)\n",
    "print((-3) ** 4)"
   ]
  },
  {
   "cell_type": "markdown",
   "id": "0afa887c-b63a-4ba1-b935-496f9483e8b2",
   "metadata": {},
   "source": [
    "## 3. 형변환\n",
    "### 3.1 암시적 형변환"
   ]
  },
  {
   "cell_type": "code",
   "execution_count": 120,
   "id": "3fc0f1a6-cdf6-4b8b-a59e-3af811df575d",
   "metadata": {},
   "outputs": [],
   "source": [
    "a = True\n",
    "b = False\n",
    "c = 1"
   ]
  },
  {
   "cell_type": "code",
   "execution_count": 122,
   "id": "210f4b0f-8f2c-4bde-b7f8-81f8db1150fb",
   "metadata": {},
   "outputs": [
    {
     "name": "stdout",
     "output_type": "stream",
     "text": [
      "1\n",
      "-1\n"
     ]
    }
   ],
   "source": [
    "print(a + b)\n",
    "print(b - c)"
   ]
  },
  {
   "cell_type": "code",
   "execution_count": 123,
   "id": "450abcb0-cced-4e50-9bb3-216a7e9a31d2",
   "metadata": {},
   "outputs": [],
   "source": [
    "int_num = 3\n",
    "float_num = 3.3\n",
    "complex_num = 3 + 3j"
   ]
  },
  {
   "cell_type": "code",
   "execution_count": 127,
   "id": "75c204f0-e9e4-46d7-b9de-2377857d92ad",
   "metadata": {},
   "outputs": [
    {
     "name": "stdout",
     "output_type": "stream",
     "text": [
      "6.3\n",
      "<class 'float'>\n",
      "(6.3+3j)\n",
      "<class 'complex'>\n"
     ]
    }
   ],
   "source": [
    "print(int_num + float_num)\n",
    "print(type(int_num + float_num))\n",
    "print(float_num + complex_num)\n",
    "print(type(float_num + complex_num))"
   ]
  },
  {
   "cell_type": "markdown",
   "id": "6b9258da-4077-412c-ad50-eef8a33901a8",
   "metadata": {},
   "source": [
    "### 3.2 명시적 형변환\n",
    "\n",
    "- int() : string, floalt => int\n",
    "- float() : string, int => float\n",
    "- str() : int, float => string\n",
    "- bool() : int, list, string => bool"
   ]
  },
  {
   "cell_type": "code",
   "execution_count": 128,
   "id": "09c5803e-7db0-47ed-9097-5921bf6a678c",
   "metadata": {},
   "outputs": [],
   "source": [
    "a = 1\n",
    "b = '번'"
   ]
  },
  {
   "cell_type": "code",
   "execution_count": 129,
   "id": "7c22f8b4-28d5-4192-b69a-b456368c4d06",
   "metadata": {},
   "outputs": [
    {
     "ename": "TypeError",
     "evalue": "unsupported operand type(s) for +: 'int' and 'str'",
     "output_type": "error",
     "traceback": [
      "\u001b[1;31m---------------------------------------------------------------------------\u001b[0m",
      "\u001b[1;31mTypeError\u001b[0m                                 Traceback (most recent call last)",
      "Cell \u001b[1;32mIn[129], line 1\u001b[0m\n\u001b[1;32m----> 1\u001b[0m \u001b[38;5;28mprint\u001b[39m(\u001b[43ma\u001b[49m\u001b[43m \u001b[49m\u001b[38;5;241;43m+\u001b[39;49m\u001b[43m \u001b[49m\u001b[43mb\u001b[49m)\n",
      "\u001b[1;31mTypeError\u001b[0m: unsupported operand type(s) for +: 'int' and 'str'"
     ]
    }
   ],
   "source": [
    "print(a + b)"
   ]
  },
  {
   "cell_type": "code",
   "execution_count": 130,
   "id": "2d2c5c3a-3cc9-491f-9dde-76379079edfb",
   "metadata": {},
   "outputs": [
    {
     "name": "stdout",
     "output_type": "stream",
     "text": [
      "1번\n"
     ]
    }
   ],
   "source": [
    "print(str(a) + b)"
   ]
  },
  {
   "cell_type": "code",
   "execution_count": 134,
   "id": "c4d815a5-2259-424a-b839-0f0634b6bb53",
   "metadata": {},
   "outputs": [
    {
     "name": "stdout",
     "output_type": "stream",
     "text": [
      "<class 'str'>\n",
      "<class 'int'>\n"
     ]
    }
   ],
   "source": [
    "a = '3'\n",
    "print(type(a))\n",
    "print(type(int(a)))"
   ]
  },
  {
   "cell_type": "code",
   "execution_count": 135,
   "id": "a1da1869-51ea-47a9-b11d-590068d052dd",
   "metadata": {},
   "outputs": [
    {
     "ename": "ValueError",
     "evalue": "invalid literal for int() with base 10: 'a'",
     "output_type": "error",
     "traceback": [
      "\u001b[1;31m---------------------------------------------------------------------------\u001b[0m",
      "\u001b[1;31mValueError\u001b[0m                                Traceback (most recent call last)",
      "Cell \u001b[1;32mIn[135], line 2\u001b[0m\n\u001b[0;32m      1\u001b[0m a \u001b[38;5;241m=\u001b[39m \u001b[38;5;124m'\u001b[39m\u001b[38;5;124ma\u001b[39m\u001b[38;5;124m'\u001b[39m\n\u001b[1;32m----> 2\u001b[0m \u001b[38;5;28mprint\u001b[39m(\u001b[38;5;28;43mint\u001b[39;49m\u001b[43m(\u001b[49m\u001b[43ma\u001b[49m\u001b[43m)\u001b[49m)\n",
      "\u001b[1;31mValueError\u001b[0m: invalid literal for int() with base 10: 'a'"
     ]
    }
   ],
   "source": [
    "a = 'a'\n",
    "print(int(a)) "
   ]
  },
  {
   "cell_type": "code",
   "execution_count": 137,
   "id": "dabe42d8-e473-4bd3-9148-28f31746be0d",
   "metadata": {},
   "outputs": [
    {
     "name": "stdout",
     "output_type": "stream",
     "text": [
      "3.3\n"
     ]
    }
   ],
   "source": [
    "a = '3.3'\n",
    "print(float(a))"
   ]
  },
  {
   "cell_type": "code",
   "execution_count": 138,
   "id": "d82e21a7-0921-40b5-a571-2fbc0ba63c46",
   "metadata": {},
   "outputs": [
    {
     "name": "stdout",
     "output_type": "stream",
     "text": [
      "True\n",
      "False\n"
     ]
    }
   ],
   "source": [
    "a = 1\n",
    "b = 0\n",
    "print(bool(a))\n",
    "print(bool(b))"
   ]
  },
  {
   "cell_type": "code",
   "execution_count": 140,
   "id": "f58b63b4-ea48-4a42-bce0-0cd82efa314f",
   "metadata": {},
   "outputs": [
    {
     "name": "stdout",
     "output_type": "stream",
     "text": [
      "False\n",
      "True\n"
     ]
    }
   ],
   "source": [
    "print(bool([]))\n",
    "print(bool([1, 2, 3]))"
   ]
  },
  {
   "cell_type": "markdown",
   "id": "53f296ca-e8fd-4857-8aef-be77e179049c",
   "metadata": {},
   "source": [
    "## 4. 시퀀스 자료형\n",
    "\n",
    "시퀀스는 데이터의 순서대로 나열된 자료구조.(순서대로 나열 되었다는 것은 정렬된 것과 다르다)\n",
    "\n",
    "1. List\n",
    "2. Tuple\n",
    "3. Range\n",
    "4. String"
   ]
  },
  {
   "cell_type": "markdown",
   "id": "64020021-c300-4676-9715-9d11d228936a",
   "metadata": {},
   "source": [
    "### 4.1 List(리스트, 배열)\n",
    "여러개의 데이터 또는 상관관계 있는 데이터의 집합\n",
    "각각의 변수로도 사용가능\n",
    "\n",
    "- 선언 : 변수이름 = [value1, value2, value3 ...]\n",
    "- 접근 : 변수이름[index](index value값의 위치 0부터 시작)"
   ]
  },
  {
   "cell_type": "code",
   "execution_count": 142,
   "id": "ed3d4b67-4bad-4dcb-b07d-cf955428698b",
   "metadata": {},
   "outputs": [
    {
     "name": "stdout",
     "output_type": "stream",
     "text": [
      "[]\n",
      "<class 'list'>\n"
     ]
    }
   ],
   "source": [
    "l = []\n",
    "print(l)\n",
    "print(type(l))"
   ]
  },
  {
   "cell_type": "code",
   "execution_count": 147,
   "id": "9bc57b32-274d-4048-bba7-a0f9762b3707",
   "metadata": {},
   "outputs": [
    {
     "name": "stdout",
     "output_type": "stream",
     "text": [
      "['서울', '대전', '부산']\n",
      "부산\n",
      "['서울', '광주', '부산']\n"
     ]
    }
   ],
   "source": [
    "location = ['서울', '대전', '부산']\n",
    "print(location)\n",
    "print(location[2])\n",
    "\n",
    "location[1] = '광주'\n",
    "print(location)"
   ]
  },
  {
   "cell_type": "markdown",
   "id": "a9e19757-3f23-4ae1-9233-5a91e6a1442d",
   "metadata": {},
   "source": [
    "### 4.2 Tuple(튜플)\n",
    "함부로 수정하면 안되는 값들\n",
    "- 선언 : 변수이름 = (value1, value2, value3 ...)\n",
    "- 접근 : 변수이름[index]\n",
    "- 리스트와 유사하지만 수정불가능(immutable)이다."
   ]
  },
  {
   "cell_type": "code",
   "execution_count": 150,
   "id": "2bd1e4c0-987b-4d7e-b086-6de910978ee2",
   "metadata": {},
   "outputs": [
    {
     "name": "stdout",
     "output_type": "stream",
     "text": [
      "(123, 456, 789)\n",
      "456\n"
     ]
    }
   ],
   "source": [
    "numbers = (123, 456, 789)\n",
    "print(numbers)\n",
    "print(numbers[1])\n"
   ]
  },
  {
   "cell_type": "code",
   "execution_count": 151,
   "id": "4feafbc0-d86e-40af-8c66-1a152240d4ad",
   "metadata": {},
   "outputs": [
    {
     "ename": "TypeError",
     "evalue": "'tuple' object does not support item assignment",
     "output_type": "error",
     "traceback": [
      "\u001b[1;31m---------------------------------------------------------------------------\u001b[0m",
      "\u001b[1;31mTypeError\u001b[0m                                 Traceback (most recent call last)",
      "Cell \u001b[1;32mIn[151], line 1\u001b[0m\n\u001b[1;32m----> 1\u001b[0m \u001b[43mnumbers\u001b[49m\u001b[43m[\u001b[49m\u001b[38;5;241;43m1\u001b[39;49m\u001b[43m]\u001b[49m \u001b[38;5;241m=\u001b[39m \u001b[38;5;241m654\u001b[39m\n",
      "\u001b[1;31mTypeError\u001b[0m: 'tuple' object does not support item assignment"
     ]
    }
   ],
   "source": [
    "numbers[1] = 654"
   ]
  },
  {
   "cell_type": "code",
   "execution_count": 153,
   "id": "9f3312b1-c667-4d97-a0a8-51a6be47f4ac",
   "metadata": {},
   "outputs": [
    {
     "name": "stdout",
     "output_type": "stream",
     "text": [
      "1 2\n",
      "2 1\n"
     ]
    }
   ],
   "source": [
    "x, y = (1, 2)\n",
    "print(x, y)\n",
    "\n",
    "x, y = y, x\n",
    "print(x, y)"
   ]
  },
  {
   "cell_type": "markdown",
   "id": "329d2d00-b3df-4632-a892-5ef8a1c7b59c",
   "metadata": {},
   "source": [
    "### 4.3 Range(범위)\n",
    "\n",
    "- range(n) : 0 부터 n-1 까지의 범위\n",
    "- range(n, m) : n 부터 m-1 까지의 범위\n",
    "- range(n, m, s) : n 부터 m-1 까지 s 만큼 증가하는 범위"
   ]
  },
  {
   "cell_type": "code",
   "execution_count": 155,
   "id": "f969683c-4754-491f-ac88-0d104d8603e9",
   "metadata": {},
   "outputs": [
    {
     "name": "stdout",
     "output_type": "stream",
     "text": [
      "range(0, 45)\n",
      "[0, 1, 2, 3, 4, 5, 6, 7, 8, 9, 10, 11, 12, 13, 14, 15, 16, 17, 18, 19, 20, 21, 22, 23, 24, 25, 26, 27, 28, 29, 30, 31, 32, 33, 34, 35, 36, 37, 38, 39, 40, 41, 42, 43, 44]\n"
     ]
    }
   ],
   "source": [
    "lotto = range(45)\n",
    "print(lotto)\n",
    "print(list(lotto))"
   ]
  },
  {
   "cell_type": "code",
   "execution_count": 156,
   "id": "1cdeb400-0878-4755-a8c1-6aa1107ff26e",
   "metadata": {},
   "outputs": [
    {
     "name": "stdout",
     "output_type": "stream",
     "text": [
      "range(5, 10)\n",
      "[5, 6, 7, 8, 9]\n"
     ]
    }
   ],
   "source": [
    "numbers = range(5, 10)\n",
    "print(numbers)\n",
    "print(list(numbers))"
   ]
  },
  {
   "cell_type": "code",
   "execution_count": 157,
   "id": "9c7248c7-85a9-466a-862b-2f1273c7295c",
   "metadata": {},
   "outputs": [
    {
     "name": "stdout",
     "output_type": "stream",
     "text": [
      "range(2, 20, 2)\n",
      "[2, 4, 6, 8, 10, 12, 14, 16, 18]\n"
     ]
    }
   ],
   "source": [
    "even = range(2, 20, 2)\n",
    "print(even)\n",
    "print(list(even))"
   ]
  },
  {
   "cell_type": "code",
   "execution_count": 158,
   "id": "1038b613-9835-42f9-8019-b25ad240ca2e",
   "metadata": {},
   "outputs": [
    {
     "name": "stdout",
     "output_type": "stream",
     "text": [
      "range(0, -10, -2)\n",
      "[0, -2, -4, -6, -8]\n"
     ]
    }
   ],
   "source": [
    "numbers = range(0, -10, -2)\n",
    "print(numbers)\n",
    "print(list(numbers))"
   ]
  },
  {
   "cell_type": "code",
   "execution_count": 160,
   "id": "4f2f1e4f-2448-4113-8628-fb1f9b79c8d4",
   "metadata": {},
   "outputs": [
    {
     "name": "stdout",
     "output_type": "stream",
     "text": [
      "[1, 2, 3, 4, 5, 6, 7, 8, 9, 10]\n"
     ]
    }
   ],
   "source": [
    "numbers = range(1, 11)\n",
    "print(list(numbers))"
   ]
  },
  {
   "cell_type": "markdown",
   "id": "8fd66208-c352-45b9-b45d-e8eabcca108d",
   "metadata": {},
   "source": [
    "### 4.4 String\n",
    "기본 데이터 구조 참고"
   ]
  },
  {
   "cell_type": "markdown",
   "id": "76d7d62d-e618-4362-976d-fa736d942d40",
   "metadata": {},
   "source": [
    "### 4.5 시퀀스에서 황용가능한 연산/함수"
   ]
  },
  {
   "cell_type": "code",
   "execution_count": 161,
   "id": "d130fe57-c994-415d-98ea-aea5b283fd30",
   "metadata": {},
   "outputs": [],
   "source": [
    "my_list = [1, 2, 3, 4, 5]\n",
    "my_tuple = (1, 2, 3, 4, 5)\n",
    "my_range = range(5)\n",
    "my_string = '12345'"
   ]
  },
  {
   "cell_type": "code",
   "execution_count": 162,
   "id": "521dbac8-1397-43ff-9662-77cff37fc4da",
   "metadata": {},
   "outputs": [
    {
     "name": "stdout",
     "output_type": "stream",
     "text": [
      "1\n",
      "1\n",
      "0\n",
      "1\n"
     ]
    }
   ],
   "source": [
    "# indexing\n",
    "print(my_list[0])\n",
    "print(my_tuple[0])\n",
    "print(my_range[0])\n",
    "print(my_string[0])"
   ]
  },
  {
   "cell_type": "code",
   "execution_count": 167,
   "id": "eb3f9d38-0b98-4c50-9e09-1a4072a2b43f",
   "metadata": {},
   "outputs": [
    {
     "name": "stdout",
     "output_type": "stream",
     "text": [
      "[2, 3]\n",
      "(2, 3)\n",
      "range(1, 3)\n",
      "23\n",
      "13\n"
     ]
    }
   ],
   "source": [
    "# slicing([n : m]) n 이상 m 미만\n",
    "print(my_list[1 : 3])\n",
    "print(my_tuple[1 : 3])\n",
    "print(my_range[1 : 3])\n",
    "print(my_string[1 : 3])\n",
    "\n",
    "print(my_string[0:4:2])"
   ]
  },
  {
   "cell_type": "code",
   "execution_count": 170,
   "id": "556e4a0f-c6b0-4422-b65b-a6a24910f539",
   "metadata": {},
   "outputs": [
    {
     "name": "stdout",
     "output_type": "stream",
     "text": [
      "True\n",
      "True\n",
      "True\n",
      "False\n"
     ]
    }
   ],
   "source": [
    "# in \n",
    "print(1 in my_list)\n",
    "print(1 in my_tuple)\n",
    "print('1' in my_string)\n",
    "\n",
    "print(1 not in my_list)"
   ]
  },
  {
   "cell_type": "code",
   "execution_count": 174,
   "id": "4b1d0dd3-1373-410e-90f7-e486c6b5be4a",
   "metadata": {},
   "outputs": [
    {
     "name": "stdout",
     "output_type": "stream",
     "text": [
      "[1, 2, 3, 4, 5, 6, 7, 8, 9, 10]\n",
      "(1, 2, 3, 4, 5, 6, 7, 8, 9, 10)\n",
      "12345678910\n"
     ]
    }
   ],
   "source": [
    "# concatenation (range는 불가)\n",
    "print(my_list + [6, 7, 8, 9, 10])\n",
    "print(my_tuple + (6, 7, 8, 9, 10))\n",
    "print(my_string + '678910')"
   ]
  },
  {
   "cell_type": "code",
   "execution_count": 178,
   "id": "71313363-31ff-4e62-8134-53bcca9f01a4",
   "metadata": {},
   "outputs": [
    {
     "name": "stdout",
     "output_type": "stream",
     "text": [
      "##########\n",
      "[0, 0, 0, 0, 0, 0, 0, 0, 0, 0]\n"
     ]
    }
   ],
   "source": [
    "# * 서로 연결하여 반복\n",
    "print('#'* 10)\n",
    "print([0] * 10)"
   ]
  },
  {
   "cell_type": "code",
   "execution_count": 180,
   "id": "8a9751a1-2eec-4290-823d-aca6f6b9e439",
   "metadata": {},
   "outputs": [
    {
     "name": "stdout",
     "output_type": "stream",
     "text": [
      "4\n",
      "5\n"
     ]
    }
   ],
   "source": [
    "print(len('길이출력'))\n",
    "print(len(my_list))"
   ]
  },
  {
   "cell_type": "code",
   "execution_count": 183,
   "id": "0151bcbb-51cc-4fed-b2df-a083dc4b82f8",
   "metadata": {},
   "outputs": [
    {
     "name": "stdout",
     "output_type": "stream",
     "text": [
      "5\n"
     ]
    }
   ],
   "source": [
    "# 최댓값\n",
    "print(max(my_list))"
   ]
  },
  {
   "cell_type": "code",
   "execution_count": 184,
   "id": "10974e05-fe05-4487-b6ae-14b456558de4",
   "metadata": {},
   "outputs": [
    {
     "name": "stdout",
     "output_type": "stream",
     "text": [
      "1\n"
     ]
    }
   ],
   "source": [
    "# 최솟값\n",
    "print(min(my_list))"
   ]
  },
  {
   "cell_type": "markdown",
   "id": "d2fb67db-dbc2-47ec-8b5c-40a6792e4399",
   "metadata": {},
   "source": [
    "## 5. 시퀀스형이 아닌 자료구조\n",
    "\n",
    "### 5.1 Set\n",
    "수학에서 사용하는 집합과 동일한 개념(중복값이 없음)\n",
    "\n",
    "- 선언 : 변수이름 = {value1, value2, value3 ...}"
   ]
  },
  {
   "cell_type": "code",
   "execution_count": 186,
   "id": "4d4f9fd1-6516-4c2f-98fe-80ce42b6357a",
   "metadata": {},
   "outputs": [],
   "source": [
    "my_set_a = {1, 3, 5, 7, 9}\n",
    "my_set_b = {1, 2, 3, 4, 5}"
   ]
  },
  {
   "cell_type": "code",
   "execution_count": 189,
   "id": "deacb2a4-deff-4d66-98ac-55fc19d3f58d",
   "metadata": {},
   "outputs": [
    {
     "name": "stdout",
     "output_type": "stream",
     "text": [
      "{9, 7}\n",
      "{1, 2, 3, 4, 5, 7, 9}\n",
      "{1, 3, 5}\n"
     ]
    }
   ],
   "source": [
    "print(my_set_a - my_set_b)\n",
    "print(my_set_a | my_set_b)\n",
    "# | 합집합\n",
    "print(my_set_a & my_set_b)"
   ]
  },
  {
   "cell_type": "code",
   "execution_count": 191,
   "id": "4619475b-065d-4508-9384-bb2868472209",
   "metadata": {},
   "outputs": [
    {
     "name": "stdout",
     "output_type": "stream",
     "text": [
      "{1, 2, 3, 4, 5, 6}\n"
     ]
    }
   ],
   "source": [
    "# 시퀀스형이 아닌 set 순서, 중복 상관없음\n",
    "test_set = {1, 2, 3, 4, 1, 3, 4, 5, 6, 1, 2, 3, 4, 5}\n",
    "print(test_set)"
   ]
  },
  {
   "cell_type": "markdown",
   "id": "ec1b6242-99ca-4ffb-9b79-2163ee84184c",
   "metadata": {},
   "source": [
    "### 5.2 Dictionary\n",
    "\n",
    "- 선언 : 변수이름 = {key1 : value1, key2 : value2 ....}\n",
    "- 접근 : 변수이름[key]"
   ]
  },
  {
   "cell_type": "code",
   "execution_count": 194,
   "id": "cc3cd647-acdf-48c8-ba70-744960996057",
   "metadata": {},
   "outputs": [
    {
     "name": "stdout",
     "output_type": "stream",
     "text": [
      "{'서울': '02', '경기': '031'}\n",
      "02\n"
     ]
    }
   ],
   "source": [
    "my_dict = {'서울': '02', '경기': '031'}\n",
    "print(my_dict)\n",
    "print(my_dict['서울'])"
   ]
  },
  {
   "cell_type": "code",
   "execution_count": 195,
   "id": "27f70f40-da84-4c44-97b3-fb3aaeda0d61",
   "metadata": {},
   "outputs": [
    {
     "name": "stdout",
     "output_type": "stream",
     "text": [
      "{'name': 'changhee', 'location': 'seoul', 'age': 10}\n",
      "seoul\n"
     ]
    }
   ],
   "source": [
    "my_info = {\n",
    "    'name': 'changhee',\n",
    "    'location': 'seoul',\n",
    "    'age': 10\n",
    "}\n",
    "print(my_info)\n",
    "print(my_info['location'])"
   ]
  },
  {
   "cell_type": "code",
   "execution_count": 199,
   "id": "3bf19b91-d3e1-4290-af9d-c8b36ab4c989",
   "metadata": {},
   "outputs": [
    {
     "data": {
      "text/plain": [
       "dict_keys(['name', 'location', 'age'])"
      ]
     },
     "execution_count": 199,
     "metadata": {},
     "output_type": "execute_result"
    }
   ],
   "source": [
    "#dictionary의 key 값\n",
    "my_info.keys()"
   ]
  },
  {
   "cell_type": "code",
   "execution_count": 200,
   "id": "192a2116-8726-4fd3-aa04-edc1c7270a08",
   "metadata": {},
   "outputs": [
    {
     "data": {
      "text/plain": [
       "dict_values(['changhee', 'seoul', 10])"
      ]
     },
     "execution_count": 200,
     "metadata": {},
     "output_type": "execute_result"
    }
   ],
   "source": [
    "#dictionary의 value 값\n",
    "my_info.values()"
   ]
  },
  {
   "cell_type": "code",
   "execution_count": null,
   "id": "00a5a040-7894-4f1b-b3a8-2f07ecc88ff5",
   "metadata": {},
   "outputs": [],
   "source": []
  },
  {
   "cell_type": "markdown",
   "id": "4700c9c0-0942-44e6-9995-cc6016dffcf1",
   "metadata": {},
   "source": [
    "#### 데이터 타입\n",
    "1. Number\n",
    "2. Boolean\n",
    "3. String\n",
    "\n",
    "#### 자료 구조\n",
    "- 시퀀스 자료형\n",
    "1. [List] : mutable\n",
    "2. (Tuple) : immutable\n",
    "3. range() : immutable\n",
    "4. 'String' : immutable\n",
    "\n",
    "- 시퀀스가 아닌 자료형\n",
    "1. {Set} : mutable\n",
    "2. {Dict: ionary} : mutable"
   ]
  },
  {
   "cell_type": "code",
   "execution_count": null,
   "id": "cc2f2c8b-682b-4a02-ae86-8bf254fff84c",
   "metadata": {},
   "outputs": [],
   "source": []
  }
 ],
 "metadata": {
  "kernelspec": {
   "display_name": "Python 3 (ipykernel)",
   "language": "python",
   "name": "python3"
  },
  "language_info": {
   "codemirror_mode": {
    "name": "ipython",
    "version": 3
   },
   "file_extension": ".py",
   "mimetype": "text/x-python",
   "name": "python",
   "nbconvert_exporter": "python",
   "pygments_lexer": "ipython3",
   "version": "3.12.4"
  }
 },
 "nbformat": 4,
 "nbformat_minor": 5
}
