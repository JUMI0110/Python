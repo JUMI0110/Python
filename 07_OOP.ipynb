{
 "cells": [
  {
   "cell_type": "markdown",
   "id": "71b16529-dd28-4e86-b04e-076f2c275c38",
   "metadata": {},
   "source": [
    "# OOP(객체지향프로그래밍)\n",
    "- 클래스(class) : 같은 종류의 집단에 속하는 속성(attribute)과 행위(method)를 정의하는 것 \n",
    "- 인스턴스(instance) : 클래스를 실제로 메모리 상에 할당한 것\n",
    "- 속성(attritbute) : 클래스/인스턴스가 가지고 있는 데이터/값\n",
    "- 행위(method) : 클래스/인스턴스가 가지고 있는 함수/기능"
   ]
  },
  {
   "cell_type": "code",
   "execution_count": 1,
   "id": "71dfa5f6-8dbe-41e3-849e-8575db821744",
   "metadata": {},
   "outputs": [],
   "source": [
    "number = 1 + 2j"
   ]
  },
  {
   "cell_type": "code",
   "execution_count": 2,
   "id": "7c6629bf-b7e3-4dce-8e22-20bc2ed9184e",
   "metadata": {},
   "outputs": [
    {
     "data": {
      "text/plain": [
       "complex"
      ]
     },
     "execution_count": 2,
     "metadata": {},
     "output_type": "execute_result"
    }
   ],
   "source": [
    "type(number)"
   ]
  },
  {
   "cell_type": "code",
   "execution_count": 5,
   "id": "e2595d35-c54b-4681-ba88-4a6e0f6caa38",
   "metadata": {},
   "outputs": [
    {
     "name": "stdout",
     "output_type": "stream",
     "text": [
      "1.0\n",
      "2.0\n"
     ]
    }
   ],
   "source": [
    "print(number.real)\n",
    "print(number.imag)"
   ]
  },
  {
   "cell_type": "code",
   "execution_count": 6,
   "id": "609fa54e-ec6e-4ed1-8f64-4aba8e6fa9e3",
   "metadata": {},
   "outputs": [],
   "source": [
    "numbers = [1, 2, 3]"
   ]
  },
  {
   "cell_type": "code",
   "execution_count": 7,
   "id": "301085f8-8585-4ac3-8ecd-2b68b7cdf3cc",
   "metadata": {},
   "outputs": [
    {
     "data": {
      "text/plain": [
       "list"
      ]
     },
     "execution_count": 7,
     "metadata": {},
     "output_type": "execute_result"
    }
   ],
   "source": [
    "type(numbers)"
   ]
  },
  {
   "cell_type": "code",
   "execution_count": 8,
   "id": "df170ec8-d7e6-47d9-b0b6-e275955d4a45",
   "metadata": {},
   "outputs": [
    {
     "name": "stdout",
     "output_type": "stream",
     "text": [
      "[3, 2, 1]\n"
     ]
    }
   ],
   "source": [
    "numbers.reverse()\n",
    "print(numbers)"
   ]
  },
  {
   "cell_type": "code",
   "execution_count": 10,
   "id": "c6f2514f-38ab-4e5a-9df1-ccdc18c9011d",
   "metadata": {},
   "outputs": [
    {
     "name": "stdout",
     "output_type": "stream",
     "text": [
      "010-1234-1234에서 010-456-456로 전화거는중\n"
     ]
    }
   ],
   "source": [
    "power = False\n",
    "number_hong = '010-1234-1234'\n",
    "book ={\n",
    "    'kim': '010-456-456',\n",
    "    'park': '010-321-321',\n",
    "}\n",
    "\n",
    "def call(from_number, to_number):\n",
    "    print(f'{from_number}에서 {to_number}로 전화거는중')\n",
    "\n",
    "call(number, book['kim'])\n",
    "    "
   ]
  },
  {
   "cell_type": "markdown",
   "id": "035f225c-d7d6-4e51-97d0-5caf5f8255f6",
   "metadata": {},
   "source": [
    "## class \n",
    "\n",
    "- 클래스 선언\n",
    "```python\n",
    "class ClassName():\n",
    "    attribute1 = value1\n",
    "    attirbute2 = value2\n",
    "    ...\n",
    "    \n",
    "    def method_name(self):\n",
    "        code\n",
    "    def ...\n",
    "```\n",
    "\n",
    "- 인스턴스화(클래스 실행)\n",
    "    - 독립적인 객체로 인스턴스화\n",
    "```python\n",
    "c = ClassName()\n",
    "```\n",
    "#### self\n",
    "- 새롭게 만들어진 인스턴스 \n",
    "- 인스턴스 안의 데이터를 활용하기 위에 메소드에 self(인스턴스)인자를 넣어줌"
   ]
  },
  {
   "cell_type": "code",
   "execution_count": 16,
   "id": "1e3ba8a1-f057-4964-a5bf-914bfe57a780",
   "metadata": {},
   "outputs": [],
   "source": [
    "# 선언\n",
    "class MyClass():\n",
    "    name = 'kim'\n",
    "\n",
    "    def hello(self):\n",
    "        return 'hello'"
   ]
  },
  {
   "cell_type": "code",
   "execution_count": 17,
   "id": "e9f1c6e0-3202-4a95-9a94-2e0b35fab759",
   "metadata": {},
   "outputs": [
    {
     "name": "stdout",
     "output_type": "stream",
     "text": [
      "<__main__.MyClass object at 0x000001FB73AFA270>\n",
      "<class '__main__.MyClass'>\n"
     ]
    }
   ],
   "source": [
    "#인스턴스화\n",
    "m = MyClass()\n",
    "print(m)\n",
    "print(type(m))"
   ]
  },
  {
   "cell_type": "code",
   "execution_count": 20,
   "id": "7b73782e-55c8-4bdf-8d5b-25813e0fa687",
   "metadata": {},
   "outputs": [
    {
     "name": "stdout",
     "output_type": "stream",
     "text": [
      "kim\n",
      "hello\n"
     ]
    }
   ],
   "source": [
    "print(m.name)\n",
    "print(m.hello())"
   ]
  },
  {
   "cell_type": "code",
   "execution_count": 21,
   "id": "fa1a9017-74ba-46d7-a4ab-0c3e38d82692",
   "metadata": {},
   "outputs": [],
   "source": [
    "m2 = MyClass()"
   ]
  },
  {
   "cell_type": "code",
   "execution_count": 22,
   "id": "383789da-35f2-4bc5-acd2-fd73521bd19c",
   "metadata": {},
   "outputs": [
    {
     "name": "stdout",
     "output_type": "stream",
     "text": [
      "<__main__.MyClass object at 0x000001FB734A33E0>\n"
     ]
    }
   ],
   "source": [
    "print(m2)"
   ]
  },
  {
   "cell_type": "code",
   "execution_count": 24,
   "id": "3ffd2635-0f73-47f6-bd2d-422b114a5b66",
   "metadata": {},
   "outputs": [
    {
     "name": "stdout",
     "output_type": "stream",
     "text": [
      "park\n",
      "hello\n"
     ]
    }
   ],
   "source": [
    "m2.name = 'park'\n",
    "print(m2.name)\n",
    "print(m.hello())"
   ]
  },
  {
   "cell_type": "code",
   "execution_count": 39,
   "id": "cbebdd4e-0d18-47ec-ac87-b4307e9ffbd4",
   "metadata": {},
   "outputs": [],
   "source": [
    "class Phone():\n",
    "    power = False\n",
    "    number = '010-0000-0000'\n",
    "    book = {}\n",
    "    model = ''\n",
    "\n",
    "    def on(self):\n",
    "        if self.power == False:\n",
    "            self.power = True\n",
    "\n",
    "\n",
    "    def off(self):\n",
    "        if self.power == True:\n",
    "            self.power = False\n",
    "\n",
    "    def call(self, target):\n",
    "        if self.power == True:\n",
    "            print(f'{self.number}에서 {target}로 전화거는중')\n",
    "        else:\n",
    "            print('핸드폰이 꺼져있습니다.')\n",
    "        "
   ]
  },
  {
   "cell_type": "code",
   "execution_count": 40,
   "id": "88b6dc34-9136-4ba1-badb-20e93d7e4c63",
   "metadata": {},
   "outputs": [],
   "source": [
    "my_phone = Phone()\n",
    "your_phone = Phone()"
   ]
  },
  {
   "cell_type": "code",
   "execution_count": 41,
   "id": "0dec55bd-8f28-4897-a957-b4b4ec54188a",
   "metadata": {},
   "outputs": [
    {
     "name": "stdout",
     "output_type": "stream",
     "text": [
      "010-1234-1234\n"
     ]
    }
   ],
   "source": [
    "my_phone.number = '010-1234-1234'\n",
    "print(my_phone.number)"
   ]
  },
  {
   "cell_type": "code",
   "execution_count": 42,
   "id": "45d08776-283e-4fd7-83b3-ba8f7ec8c504",
   "metadata": {},
   "outputs": [
    {
     "name": "stdout",
     "output_type": "stream",
     "text": [
      "010-321-321\n"
     ]
    }
   ],
   "source": [
    "your_phone.number = '010-321-321'\n",
    "print(your_phone.number)"
   ]
  },
  {
   "cell_type": "code",
   "execution_count": 43,
   "id": "76ae0d1c-05af-4aa2-9a19-8bae350a9d6b",
   "metadata": {},
   "outputs": [
    {
     "name": "stdout",
     "output_type": "stream",
     "text": [
      "핸드폰이 꺼져있습니다.\n"
     ]
    }
   ],
   "source": [
    "my_phone.call(your_phone.number)"
   ]
  },
  {
   "cell_type": "code",
   "execution_count": 46,
   "id": "50636c39-7acb-4a00-a96c-b4fc99a7f8a1",
   "metadata": {},
   "outputs": [
    {
     "name": "stdout",
     "output_type": "stream",
     "text": [
      "010-1234-1234에서 010-321-321로 전화거는중\n",
      "010-1234-1234에서 112로 전화거는중\n"
     ]
    }
   ],
   "source": [
    "my_phone.on()\n",
    "my_phone.call(your_phone.number)\n",
    "my_phone.call('112')"
   ]
  },
  {
   "cell_type": "code",
   "execution_count": 49,
   "id": "13848cc0-3449-466c-ab21-6240fda37551",
   "metadata": {},
   "outputs": [
    {
     "name": "stdout",
     "output_type": "stream",
     "text": [
      "010-321-321에서 119로 전화거는중\n"
     ]
    }
   ],
   "source": [
    "your_phone.on()\n",
    "your_phone.call('119')"
   ]
  },
  {
   "cell_type": "code",
   "execution_count": 63,
   "id": "d22852b9-3939-460c-9450-fc54690b29b7",
   "metadata": {},
   "outputs": [],
   "source": [
    "#\n",
    "class MyList():\n",
    "    data = []\n",
    "\n",
    "    def append(self, a):\n",
    "        self.data.append(a)\n",
    "        \n",
    "    def pop(self):\n",
    "        self.data.pop()\n"
   ]
  },
  {
   "cell_type": "code",
   "execution_count": 64,
   "id": "31b21981-8ee7-4c98-93bd-f145441961b9",
   "metadata": {},
   "outputs": [
    {
     "name": "stdout",
     "output_type": "stream",
     "text": [
      "[]\n",
      "[5]\n",
      "[5, 10]\n",
      "[5]\n"
     ]
    }
   ],
   "source": [
    "list_a = MyList()\n",
    "\n",
    "print(list_a.data) # => []\n",
    "\n",
    "list_a.append(5)\n",
    "print(list_a.data) # = > [5]\n",
    "list_a.append(10)\n",
    "print(list_a.data) # => [5, 10]\n",
    "list_a.pop()\n",
    "print(list_a.data) # => [5]"
   ]
  },
  {
   "cell_type": "code",
   "execution_count": 65,
   "id": "9fde2e88-efee-4b86-938d-83145e0eee46",
   "metadata": {},
   "outputs": [],
   "source": [
    "class MyList():\n",
    "    data = []\n",
    "\n",
    "    def append(self, item):\n",
    "        self.data = self.data + [item]\n",
    "        \n",
    "    def pop(self):\n",
    "        result = self.data[-1] #pop의 기능 제거하는 데이터 변수로 저장\n",
    "        self.data = self.data[:-1]\n",
    "        "
   ]
  },
  {
   "cell_type": "code",
   "execution_count": 66,
   "id": "639d986f-8fc5-4945-adb3-5dc138f49efc",
   "metadata": {},
   "outputs": [
    {
     "name": "stdout",
     "output_type": "stream",
     "text": [
      "[]\n",
      "[5]\n",
      "[5, 10]\n",
      "[5]\n"
     ]
    }
   ],
   "source": [
    "list_a = MyList()\n",
    "\n",
    "print(list_a.data) # => []\n",
    "\n",
    "list_a.append(5)\n",
    "print(list_a.data) # = > [5]\n",
    "list_a.append(10)\n",
    "print(list_a.data) # => [5, 10]\n",
    "list_a.pop()\n",
    "print(list_a.data) # => [5]"
   ]
  },
  {
   "cell_type": "code",
   "execution_count": 67,
   "id": "d9c88572-6cd6-4957-bb2b-e6634798628c",
   "metadata": {},
   "outputs": [
    {
     "name": "stdout",
     "output_type": "stream",
     "text": [
      "['일', '이', '삼']\n"
     ]
    }
   ],
   "source": [
    "list_b = MyList()\n",
    "list_b.append('일')\n",
    "list_b.append('이')\n",
    "list_b.append('삼')\n",
    "print(list_b.data)"
   ]
  },
  {
   "cell_type": "markdown",
   "id": "987e893c-6ddb-4ed6-9f59-bbb50390c8a9",
   "metadata": {},
   "source": [
    "## 생성자, 소멸자\n",
    "\n",
    "```python\n",
    "class MyClass():\n",
    "\n",
    "    def __init__(self):\n",
    "        pass\n",
    "\n",
    "    def __del__(self):\n",
    "        pass\n",
    "```\n",
    "함수의 이름이 정해져있음\n",
    "\n",
    "클래스를 실행한다는 것은 클래스 안의 `__init__` 함수를 실행하는 것\n"
   ]
  },
  {
   "cell_type": "code",
   "execution_count": 74,
   "id": "d2b56bf1-947f-4adc-8a31-a74f7cfbb7fa",
   "metadata": {},
   "outputs": [],
   "source": [
    "class Person():\n",
    "    name = ''\n",
    "\n",
    "    def __init__(self, name='익명'):\n",
    "        self.name = name\n",
    "        print('생성됨')\n",
    "    def __del__(self):\n",
    "        print('소멸됨')"
   ]
  },
  {
   "cell_type": "code",
   "execution_count": 75,
   "id": "ec845069-51d8-4c12-9e31-91c6fa55cf11",
   "metadata": {},
   "outputs": [
    {
     "name": "stdout",
     "output_type": "stream",
     "text": [
      "생성됨\n",
      "소멸됨\n",
      "kim\n"
     ]
    }
   ],
   "source": [
    "p1 = Person('kim')\n",
    "print(p1.name)"
   ]
  },
  {
   "cell_type": "code",
   "execution_count": 76,
   "id": "0a6a3f28-0d8e-4e2e-b899-2f1daf6dddbf",
   "metadata": {},
   "outputs": [
    {
     "name": "stdout",
     "output_type": "stream",
     "text": [
      "생성됨\n",
      "익명\n"
     ]
    }
   ],
   "source": [
    "p2 = Person()\n",
    "print(p2.name)"
   ]
  },
  {
   "cell_type": "code",
   "execution_count": 77,
   "id": "6ba20863-29f1-4599-b659-460719349522",
   "metadata": {},
   "outputs": [
    {
     "name": "stdout",
     "output_type": "stream",
     "text": [
      "소멸됨\n"
     ]
    }
   ],
   "source": [
    "del p2"
   ]
  },
  {
   "cell_type": "code",
   "execution_count": 97,
   "id": "50eaabc7-33aa-432c-87cf-8069849e937e",
   "metadata": {},
   "outputs": [],
   "source": [
    "class Circle():\n",
    "    pi = 3.14\n",
    "\n",
    "    def __init__(self, r, x=0, y=0):\n",
    "        self.r = r\n",
    "        self.x = x\n",
    "        self.y = y\n",
    "\n",
    "    def area(self):\n",
    "        return self.pi * self.r ** 2\n",
    "\n",
    "    def center(self):\n",
    "        return (self.x, self.y)\n",
    "\n",
    "    def move(self, x, y):\n",
    "        self.x = x\n",
    "        self.y = y\n",
    "        print(f'원의 중심이 {x}, {y}로 이동했습니다.')\n",
    "\n",
    "    def round(self):\n",
    "        return self.r * self.pi * 2"
   ]
  },
  {
   "cell_type": "code",
   "execution_count": 98,
   "id": "60865e2f-c4bc-49a5-ac4e-95c83c8c8a0e",
   "metadata": {},
   "outputs": [
    {
     "ename": "TypeError",
     "evalue": "Circle.__init__() missing 1 required positional argument: 'r'",
     "output_type": "error",
     "traceback": [
      "\u001b[1;31m---------------------------------------------------------------------------\u001b[0m",
      "\u001b[1;31mTypeError\u001b[0m                                 Traceback (most recent call last)",
      "Cell \u001b[1;32mIn[98], line 1\u001b[0m\n\u001b[1;32m----> 1\u001b[0m c1 \u001b[38;5;241m=\u001b[39m \u001b[43mCircle\u001b[49m\u001b[43m(\u001b[49m\u001b[43m)\u001b[49m\n",
      "\u001b[1;31mTypeError\u001b[0m: Circle.__init__() missing 1 required positional argument: 'r'"
     ]
    }
   ],
   "source": [
    "c1 = Circle()"
   ]
  },
  {
   "cell_type": "code",
   "execution_count": 99,
   "id": "d518e2e1-a151-4d42-914c-a938558b0401",
   "metadata": {},
   "outputs": [],
   "source": [
    "c1 = Circle(5)\n",
    "c2 = Circle(10, 3, 3)"
   ]
  },
  {
   "cell_type": "code",
   "execution_count": 100,
   "id": "f0adcc60-a7e9-4722-9719-72629d6c9ca8",
   "metadata": {},
   "outputs": [
    {
     "name": "stdout",
     "output_type": "stream",
     "text": [
      "78.5\n",
      "314.0\n"
     ]
    }
   ],
   "source": [
    "print(c1.area())\n",
    "print(c2.area())"
   ]
  },
  {
   "cell_type": "code",
   "execution_count": 101,
   "id": "4eafbc98-3ef9-4921-bbe3-cb65d48ce471",
   "metadata": {},
   "outputs": [
    {
     "name": "stdout",
     "output_type": "stream",
     "text": [
      "(0, 0)\n",
      "(3, 3)\n"
     ]
    }
   ],
   "source": [
    "print(c1.center())\n",
    "print(c2.center())"
   ]
  },
  {
   "cell_type": "code",
   "execution_count": 104,
   "id": "d98fad24-d1b2-4fc7-900e-a9484b6ceb2a",
   "metadata": {},
   "outputs": [
    {
     "name": "stdout",
     "output_type": "stream",
     "text": [
      "원의 중심이 10, 10로 이동했습니다.\n",
      "None\n",
      "원의 중심이 2, 9로 이동했습니다.\n",
      "None\n"
     ]
    }
   ],
   "source": [
    "print(c1.move(10, 10))\n",
    "print(c2.move(2, 9))"
   ]
  },
  {
   "cell_type": "code",
   "execution_count": 105,
   "id": "4bbc45d5-b87b-40be-8ae4-f725a4e17477",
   "metadata": {},
   "outputs": [
    {
     "name": "stdout",
     "output_type": "stream",
     "text": [
      "31.400000000000002\n",
      "62.800000000000004\n"
     ]
    }
   ],
   "source": [
    "print(c1.round())\n",
    "print(c2.round())"
   ]
  },
  {
   "cell_type": "code",
   "execution_count": 117,
   "id": "8c4fa1f6-95bb-4192-9524-5efc3d23384a",
   "metadata": {},
   "outputs": [],
   "source": [
    "class Point():\n",
    "    def __init__(self, x, y):\n",
    "        self.x = x\n",
    "        self.y = y\n",
    "\n",
    "    def info(self):\n",
    "        return (self.x, self.y)\n",
    "\n",
    "   "
   ]
  },
  {
   "cell_type": "code",
   "execution_count": 125,
   "id": "064e0eab-a626-4c5c-a811-1e6602ee4414",
   "metadata": {},
   "outputs": [],
   "source": [
    "class Circle():\n",
    "    def __init__(self, point, r):\n",
    "        self.point = point\n",
    "        self.r = r\n",
    "\n",
    "    def info(self):\n",
    "        return (self.point.x, self.point.y, self.r)\n",
    "    \n",
    "    def move(self, x, y):\n",
    "        self.point.x = x\n",
    "        self.point.y = y"
   ]
  },
  {
   "cell_type": "code",
   "execution_count": 126,
   "id": "17ac5bb1-4b8c-4298-9e73-ecb07ae83ac1",
   "metadata": {},
   "outputs": [
    {
     "name": "stdout",
     "output_type": "stream",
     "text": [
      "(1, 2)\n"
     ]
    }
   ],
   "source": [
    "p1 = Point(1, 2)\n",
    "print(p1.info())"
   ]
  },
  {
   "cell_type": "code",
   "execution_count": 127,
   "id": "a7432272-0b60-4d83-bdae-b0eb8b0f9f91",
   "metadata": {},
   "outputs": [
    {
     "name": "stdout",
     "output_type": "stream",
     "text": [
      "(1, 2, 5)\n"
     ]
    }
   ],
   "source": [
    "c1 = Circle(p1, 5)\n",
    "print(c1.info())"
   ]
  },
  {
   "cell_type": "code",
   "execution_count": 128,
   "id": "07e200e9-81d2-4539-8899-86a148f17b34",
   "metadata": {},
   "outputs": [
    {
     "name": "stdout",
     "output_type": "stream",
     "text": [
      "(5, 5, 5)\n"
     ]
    }
   ],
   "source": [
    "c1.move(5, 5)\n",
    "print(c1.info())"
   ]
  },
  {
   "cell_type": "markdown",
   "id": "15088ada-2dcb-439b-9de1-67b4c0769343",
   "metadata": {},
   "source": [
    "### 클래스 변수\n",
    "- 클래스 선언 블록 최상단에 위치\n",
    "\n",
    "### 인스턴스 변수\n",
    "- 인스턴스 내부에서 생성한 변수(`self.variable = `)\n",
    "\n",
    "```python\n",
    "class MyClass():\n",
    "    class_variable = '클래스 변수'\n",
    "\n",
    "    def __init__(self):\n",
    "        self.instance_variable = '인스턴스 변수'\n",
    "\n",
    "```"
   ]
  },
  {
   "cell_type": "code",
   "execution_count": 132,
   "id": "d9bab1d1-7e5f-4c54-98aa-4320133f5fe2",
   "metadata": {},
   "outputs": [],
   "source": [
    "class Person():\n",
    "    name = '홍길동'\n",
    "    phone = '010-123'\n",
    "    def __init__(self, name):\n",
    "        self.name = name"
   ]
  },
  {
   "cell_type": "code",
   "execution_count": 134,
   "id": "b5212189-e16c-471f-a5a7-634eef45bb2b",
   "metadata": {},
   "outputs": [
    {
     "name": "stdout",
     "output_type": "stream",
     "text": [
      "010-123\n",
      "오창희\n"
     ]
    }
   ],
   "source": [
    "p1 = Person('오창희')\n",
    "print(p1.phone) # 클래스 변수 접근\n",
    "print(p1.name) # 인스턴스 변수 접근"
   ]
  },
  {
   "cell_type": "markdown",
   "id": "786b9bac-c377-4b79-99b6-4a26904892d9",
   "metadata": {},
   "source": [
    "### 클래스 메소드, 인스턴스 메소드, 스택틱 메소드\n",
    "\n",
    "```python\n",
    "class MyClass():\n",
    "    def instance_method(self):\n",
    "        code\n",
    "\n",
    "    @classmethod\n",
    "    def class_method(cls):\n",
    "        code\n",
    "\n",
    "    @staticmethod\n",
    "    def static_method():\n",
    "        code\n",
    "\n",
    "```"
   ]
  },
  {
   "cell_type": "code",
   "execution_count": 171,
   "id": "c289ba7e-717c-49e0-913e-c6b325b63371",
   "metadata": {},
   "outputs": [],
   "source": [
    "class MyClass():\n",
    "    def instance_method(self): # 인스턴스가 가지고 있는 정보에 접근하려면 인스턴스메소드\n",
    "        return self\n",
    "\n",
    "    @classmethod # 클래스에 있는 변수 사용\n",
    "    def class_method(cls):\n",
    "        return cls\n",
    "\n",
    "    @staticmethod # 클래스, 인스턴스에 담긴 데이터와 상관없이 \n",
    "    def static_method():\n",
    "        return 'hello'"
   ]
  },
  {
   "cell_type": "code",
   "execution_count": 140,
   "id": "dece3104-d979-4a34-ae2a-a70253b7f6de",
   "metadata": {},
   "outputs": [
    {
     "name": "stdout",
     "output_type": "stream",
     "text": [
      "<__main__.MyClass object at 0x000001FB73FAF5C0>\n",
      "<class '__main__.MyClass'>\n"
     ]
    }
   ],
   "source": [
    "c1 = MyClass()\n",
    "\n",
    "print(c1.instance_method())\n",
    "print(MyClass.class_method())"
   ]
  },
  {
   "cell_type": "code",
   "execution_count": 144,
   "id": "e4a29e7a-a92c-499d-bb90-1091dea8a7d7",
   "metadata": {},
   "outputs": [],
   "source": [
    "class Puppy():\n",
    "    num_of_puppy = 0\n",
    "    \n",
    "    def __init__(self, name):\n",
    "        self.name = name\n",
    "        Puppy.num_of_puppy += 1\n",
    "\n",
    "\n",
    "    @classmethod\n",
    "    def get_status(cls):\n",
    "        print(f'현재 강아지는 {cls.num_of_puppy}마리 입니다.')\n",
    "\n",
    "    @staticmethod\n",
    "    def bark():\n",
    "        print('멍멍')\n",
    "\n",
    "    def bark2(self):\n",
    "        print(f'내 이름은 {self.name}이야 멍멍')"
   ]
  },
  {
   "cell_type": "code",
   "execution_count": 145,
   "id": "e754245a-8202-4507-b767-cf8612bb9207",
   "metadata": {},
   "outputs": [
    {
     "name": "stdout",
     "output_type": "stream",
     "text": [
      "현재 강아지는 3마리 입니다.\n",
      "멍멍\n",
      "내 이름은 초코이야 멍멍\n"
     ]
    }
   ],
   "source": [
    "p1 = Puppy('초코')\n",
    "p2 = Puppy('인절미')\n",
    "p3 = Puppy('별이')\n",
    "\n",
    "Puppy.get_status()\n",
    "p1.bark()\n",
    "p1.bark2()"
   ]
  },
  {
   "cell_type": "markdown",
   "id": "8a1e3dfd-6338-4458-994f-cea92710e3bf",
   "metadata": {},
   "source": [
    "### 상속"
   ]
  },
  {
   "cell_type": "code",
   "execution_count": 147,
   "id": "b60ff161-7db9-4576-aded-181ea8a9605e",
   "metadata": {},
   "outputs": [],
   "source": [
    "class Person():\n",
    "    ident = '111111-111111'\n",
    "\n",
    "    def __init__(self, name):\n",
    "        self.name = name\n",
    "\n",
    "    def greeting(self):\n",
    "        print(f'안녕하세요 {self.name}입니다.')\n",
    "        "
   ]
  },
  {
   "cell_type": "code",
   "execution_count": 148,
   "id": "a07a5028-c8a4-4c45-b86d-73135c55d573",
   "metadata": {},
   "outputs": [],
   "source": [
    "p1 = Person('홍길동')\n",
    "p2 = Person('이순신')"
   ]
  },
  {
   "cell_type": "code",
   "execution_count": 149,
   "id": "efd2b03c-5f63-49a2-b768-a9c5f2bef80f",
   "metadata": {},
   "outputs": [
    {
     "name": "stdout",
     "output_type": "stream",
     "text": [
      "안녕하세요 홍길동입니다.\n",
      "안녕하세요 이순신입니다.\n"
     ]
    }
   ],
   "source": [
    "p1.greeting()\n",
    "p2.greeting()"
   ]
  },
  {
   "cell_type": "code",
   "execution_count": 155,
   "id": "48f0f999-4c69-42b0-ae98-5c19dbddb44c",
   "metadata": {},
   "outputs": [],
   "source": [
    "class Soldier(Person):\n",
    "    # ident = '111111-111111'\n",
    "\n",
    "    # def __init__(self, name):\n",
    "    #     self.name = name\n",
    "   \n",
    "    def greeting(self):\n",
    "        print(f'충성! {self.name}입니다.')\n",
    "        #이름이 똑같은 함수는 가장 가까운 함수 먼저 실행\n",
    "        "
   ]
  },
  {
   "cell_type": "code",
   "execution_count": 154,
   "id": "94295441-681f-404c-b39e-5b25f094c870",
   "metadata": {},
   "outputs": [
    {
     "name": "stdout",
     "output_type": "stream",
     "text": [
      "충성! 국방이입니다.\n",
      "111111-111111\n"
     ]
    }
   ],
   "source": [
    "s1 = Soldier('국방이')\n",
    "s1.greeting()\n",
    "print(s1.ident)"
   ]
  },
  {
   "cell_type": "code",
   "execution_count": 158,
   "id": "7632c665-fe72-4342-9684-e15a55e88b07",
   "metadata": {},
   "outputs": [],
   "source": [
    "class Student(Person):\n",
    "    student_id = '123456'\n",
    "\n",
    "    def __init__(self, student_id):\n",
    "        self.student_id = student_id\n",
    "        \n",
    "    "
   ]
  },
  {
   "cell_type": "code",
   "execution_count": 160,
   "id": "00c8c6d1-98bb-4649-82ea-d6d45f5263cc",
   "metadata": {},
   "outputs": [
    {
     "ename": "AttributeError",
     "evalue": "'Student' object has no attribute 'name'",
     "output_type": "error",
     "traceback": [
      "\u001b[1;31m---------------------------------------------------------------------------\u001b[0m",
      "\u001b[1;31mAttributeError\u001b[0m                            Traceback (most recent call last)",
      "Cell \u001b[1;32mIn[160], line 2\u001b[0m\n\u001b[0;32m      1\u001b[0m s1 \u001b[38;5;241m=\u001b[39m Student(\u001b[38;5;124m'\u001b[39m\u001b[38;5;124m789789\u001b[39m\u001b[38;5;124m'\u001b[39m)\n\u001b[1;32m----> 2\u001b[0m \u001b[43ms1\u001b[49m\u001b[38;5;241;43m.\u001b[39;49m\u001b[43mgreeting\u001b[49m\u001b[43m(\u001b[49m\u001b[43m)\u001b[49m\n",
      "Cell \u001b[1;32mIn[147], line 8\u001b[0m, in \u001b[0;36mPerson.greeting\u001b[1;34m(self)\u001b[0m\n\u001b[0;32m      7\u001b[0m \u001b[38;5;28;01mdef\u001b[39;00m \u001b[38;5;21mgreeting\u001b[39m(\u001b[38;5;28mself\u001b[39m):\n\u001b[1;32m----> 8\u001b[0m     \u001b[38;5;28mprint\u001b[39m(\u001b[38;5;124mf\u001b[39m\u001b[38;5;124m'\u001b[39m\u001b[38;5;124m안녕하세요 \u001b[39m\u001b[38;5;132;01m{\u001b[39;00m\u001b[38;5;28;43mself\u001b[39;49m\u001b[38;5;241;43m.\u001b[39;49m\u001b[43mname\u001b[49m\u001b[38;5;132;01m}\u001b[39;00m\u001b[38;5;124m입니다.\u001b[39m\u001b[38;5;124m'\u001b[39m)\n",
      "\u001b[1;31mAttributeError\u001b[0m: 'Student' object has no attribute 'name'"
     ]
    }
   ],
   "source": [
    "s1 = Student('789789')\n",
    "s1.greeting()"
   ]
  },
  {
   "cell_type": "code",
   "execution_count": 161,
   "id": "c4de6ca3-7a3d-40b1-81f5-aa850bda0342",
   "metadata": {},
   "outputs": [],
   "source": [
    "class Person():\n",
    "    def __init__(self, name, email, phone, location): \n",
    "        self.name = name\n",
    "        self.email = email\n",
    "        self.phone = phone\n",
    "        self.location = location\n",
    "\n",
    "class Student(Person):\n",
    "    def __init__(self, name, email, phone, location, student_id):\n",
    "        super().__init__(name, email, phone, location) # 상위객체가 가지고 있는 __init__함수 실행 가능\n",
    "        self.student_id = student_id"
   ]
  },
  {
   "cell_type": "code",
   "execution_count": 162,
   "id": "4a30ad5f-6bd2-490a-8b25-a2bb92acfe21",
   "metadata": {},
   "outputs": [],
   "source": [
    "p1 = Person('hong', 'tets@gmail.com', '010-1234', 'seoul')\n",
    "s1 = Student('kim','kim@gmail.com', '010-231', 'seoul', '123123')"
   ]
  },
  {
   "cell_type": "markdown",
   "id": "1ba2668a-19ab-4b83-a727-4a7f2b27c650",
   "metadata": {},
   "source": [
    "### 다중상속"
   ]
  },
  {
   "cell_type": "code",
   "execution_count": 163,
   "id": "17d08bae-015e-4cef-ac16-523cc580afc3",
   "metadata": {},
   "outputs": [],
   "source": [
    "class Person():\n",
    "    def __init__(self, name):\n",
    "        self.name = name\n",
    "\n",
    "    def breath(self):\n",
    "        print('후하')"
   ]
  },
  {
   "cell_type": "code",
   "execution_count": 165,
   "id": "4c1f85c0-4b37-40d5-90b9-ca01f3f9f695",
   "metadata": {},
   "outputs": [],
   "source": [
    "class Mom(Person):\n",
    "    gene = 'xx'\n",
    "\n",
    "    def swim(self):\n",
    "        print('어푸어푸')"
   ]
  },
  {
   "cell_type": "code",
   "execution_count": 166,
   "id": "619ca09b-243c-4822-8695-b6935619e488",
   "metadata": {},
   "outputs": [],
   "source": [
    "class Dad(Person):\n",
    "    gene = 'xy'\n",
    "\n",
    "    def run(self):\n",
    "        print('다다다')"
   ]
  },
  {
   "cell_type": "code",
   "execution_count": 172,
   "id": "d8c6eaed-eac4-4f59-ba1f-87b9689ba565",
   "metadata": {},
   "outputs": [],
   "source": [
    "class Baby(Mom, Dad): # 상속하는 객체의 순서에 따라 함수 실행\n",
    "    pass\n",
    "    "
   ]
  },
  {
   "cell_type": "code",
   "execution_count": 173,
   "id": "28ae95d3-5ce8-429c-a128-034a14a5c8c7",
   "metadata": {},
   "outputs": [
    {
     "name": "stdout",
     "output_type": "stream",
     "text": [
      "금쪽이\n",
      "다다다\n",
      "어푸어푸\n",
      "후하\n",
      "xx\n"
     ]
    }
   ],
   "source": [
    "b = Baby('금쪽이')\n",
    "print(b.name)\n",
    "b.run()\n",
    "b.swim()\n",
    "b.breath()\n",
    "print(b.gene)"
   ]
  },
  {
   "cell_type": "code",
   "execution_count": 175,
   "id": "7cc8db1a-92fe-466a-8cbd-077e9a6f0940",
   "metadata": {},
   "outputs": [
    {
     "name": "stdout",
     "output_type": "stream",
     "text": [
      "꼬부기은 파이리에게 15.0의 공격을 했다.\n",
      "파이리은 꼬부기에게 20의 공격을 했다.\n",
      "꼬부기: 30\n",
      "파이리: 35.0\n",
      "꼬부기은 파이리에게 15.0의 공격을 했다.\n",
      "파이리은 꼬부기에게 20의 공격을 했다.\n",
      "꼬부기: 10\n",
      "파이리: 20.0\n",
      "꼬부기은 파이리에게 15.0의 공격을 했다.\n",
      "파이리은 꼬부기에게 20의 공격을 했다.\n",
      "꼬부기 승리\n"
     ]
    }
   ],
   "source": [
    "class Pocketmon():\n",
    "    def __init__(self, name):\n",
    "        self.name = name\n",
    "        self.level = 10\n",
    "        self.hp = self.level * 5\n",
    "        self.exp = 0\n",
    "\n",
    "    def attack(self, opponent):\n",
    "        damege = self.level\n",
    "        opponent.hp -= damege\n",
    "        if opponent.check_hp():\n",
    "\n",
    "            self.exp += 5\n",
    "\n",
    "    def check_hp(self):\n",
    "        return True if self.hp <= 0 else False\n",
    "\n",
    "class WaterType():\n",
    "    type_name = 'water'\n",
    "\n",
    "class FireType():\n",
    "    type_name = 'fire'\n",
    "\n",
    "class WaterPocketmon(Pocketmon, WaterType):\n",
    "    def water_attack(self, opponent):\n",
    "        if opponent.type_name == 'fire':\n",
    "            damege = self.level * 1.5\n",
    "        else:\n",
    "            damege = self.level * 1.2\n",
    "        opponent.hp -= damege\n",
    "        print(f'{self.name}은 {opponent.name}에게 {damege}의 공격을 했다.')\n",
    "class FirePocketmon(Pocketmon, FireType):\n",
    "    def fire_attack(self, opponent):\n",
    "        damege = self.level * 2\n",
    "        opponent.hp -= damege\n",
    "        print(f'{self.name}은 {opponent.name}에게 {damege}의 공격을 했다.')\n",
    "\n",
    "\n",
    "koboki = WaterPocketmon('꼬부기')\n",
    "pairi = FirePocketmon('파이리')\n",
    "\n",
    "import random\n",
    "\n",
    "while not koboki.check_hp() or not pairi.check_hp():\n",
    "    random_attack = random.randint(0, 1)\n",
    "\n",
    "    koboki.water_attack(pairi)\n",
    "\n",
    "    if pairi.check_hp():\n",
    "        print(f'{pairi.name} 승리')\n",
    "        break\n",
    "\n",
    "    random_attack = random.randint(0, 1)\n",
    "    pairi.fire_attack(koboki)\n",
    "\n",
    "    if koboki.check_hp():\n",
    "        print(f'{koboki.name} 승리')\n",
    "        break\n",
    "\n",
    "    print(f'{koboki.name}: {koboki.hp}')\n",
    "    print(f'{pairi.name}: {pairi.hp}')"
   ]
  },
  {
   "cell_type": "code",
   "execution_count": null,
   "id": "aa74f3a1-8ced-49d8-a1c0-225ec27c687e",
   "metadata": {},
   "outputs": [],
   "source": []
  },
  {
   "cell_type": "code",
   "execution_count": null,
   "id": "8f01d639-46d6-48b8-8c99-85aefd97414b",
   "metadata": {},
   "outputs": [],
   "source": []
  },
  {
   "cell_type": "code",
   "execution_count": null,
   "id": "d863b766-ef6f-4999-b41c-4b5d8430ba99",
   "metadata": {},
   "outputs": [],
   "source": []
  },
  {
   "cell_type": "code",
   "execution_count": null,
   "id": "ebc3ad2c-0f4c-4048-8bcc-8da3aff7bf92",
   "metadata": {},
   "outputs": [],
   "source": []
  },
  {
   "cell_type": "code",
   "execution_count": null,
   "id": "c5ce7e5f-f033-4c64-95e9-a456c56fd353",
   "metadata": {},
   "outputs": [],
   "source": []
  },
  {
   "cell_type": "code",
   "execution_count": null,
   "id": "eb598cd6-cf41-4e41-adfb-aafc1dc3d747",
   "metadata": {},
   "outputs": [],
   "source": []
  },
  {
   "cell_type": "code",
   "execution_count": null,
   "id": "fd90934a-6605-4da2-8cef-1d9ba75c443e",
   "metadata": {},
   "outputs": [],
   "source": []
  },
  {
   "cell_type": "code",
   "execution_count": null,
   "id": "fa753761-44d0-44ec-bd48-8e09752a5c85",
   "metadata": {},
   "outputs": [],
   "source": []
  },
  {
   "cell_type": "code",
   "execution_count": null,
   "id": "79aed417-6a8d-4e1c-97b6-04f3c695b5e3",
   "metadata": {},
   "outputs": [],
   "source": []
  },
  {
   "cell_type": "code",
   "execution_count": null,
   "id": "ba12af5e-10bc-4b5b-9bdb-4ff07b442fde",
   "metadata": {},
   "outputs": [],
   "source": []
  },
  {
   "cell_type": "code",
   "execution_count": null,
   "id": "16cf63d1-2080-410d-903f-30a8bd831463",
   "metadata": {},
   "outputs": [],
   "source": []
  },
  {
   "cell_type": "code",
   "execution_count": null,
   "id": "8db48848-033b-4108-9535-f0022e5710cb",
   "metadata": {},
   "outputs": [],
   "source": []
  },
  {
   "cell_type": "code",
   "execution_count": null,
   "id": "7c5afa66-f55f-4cb8-b146-8057fa7e8898",
   "metadata": {},
   "outputs": [],
   "source": []
  },
  {
   "cell_type": "code",
   "execution_count": null,
   "id": "6ca2c619-2b35-476d-a5d1-7bff64d2a774",
   "metadata": {},
   "outputs": [],
   "source": []
  },
  {
   "cell_type": "code",
   "execution_count": null,
   "id": "46295c66-0f6c-4914-bc3a-5389386af76f",
   "metadata": {},
   "outputs": [],
   "source": []
  }
 ],
 "metadata": {
  "kernelspec": {
   "display_name": "Python 3 (ipykernel)",
   "language": "python",
   "name": "python3"
  },
  "language_info": {
   "codemirror_mode": {
    "name": "ipython",
    "version": 3
   },
   "file_extension": ".py",
   "mimetype": "text/x-python",
   "name": "python",
   "nbconvert_exporter": "python",
   "pygments_lexer": "ipython3",
   "version": "3.12.4"
  }
 },
 "nbformat": 4,
 "nbformat_minor": 5
}
