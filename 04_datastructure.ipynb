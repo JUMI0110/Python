{
 "cells": [
  {
   "cell_type": "markdown",
   "id": "56e158d0-00c6-4fc1-b6d5-cc218d0df3fd",
   "metadata": {},
   "source": [
    "# 문자열 메소드\n",
    "- 원본데이터 수정하는 함수 , 원본데이터 수정하지 않는 함수 주의하여 사용\n",
    "- 문자열 수정불가능한 데이터 "
   ]
  },
  {
   "cell_type": "code",
   "execution_count": 3,
   "id": "4e4bb6f5-0313-4464-aca1-5720ae75aeaa",
   "metadata": {},
   "outputs": [
    {
     "name": "stdout",
     "output_type": "stream",
     "text": [
      "['__add__', '__class__', '__contains__', '__delattr__', '__dir__', '__doc__', '__eq__', '__format__', '__ge__', '__getattribute__', '__getitem__', '__getnewargs__', '__getstate__', '__gt__', '__hash__', '__init__', '__init_subclass__', '__iter__', '__le__', '__len__', '__lt__', '__mod__', '__mul__', '__ne__', '__new__', '__reduce__', '__reduce_ex__', '__repr__', '__rmod__', '__rmul__', '__setattr__', '__sizeof__', '__str__', '__subclasshook__', 'capitalize', 'casefold', 'center', 'count', 'encode', 'endswith', 'expandtabs', 'find', 'format', 'format_map', 'index', 'isalnum', 'isalpha', 'isascii', 'isdecimal', 'isdigit', 'isidentifier', 'islower', 'isnumeric', 'isprintable', 'isspace', 'istitle', 'isupper', 'join', 'ljust', 'lower', 'lstrip', 'maketrans', 'partition', 'removeprefix', 'removesuffix', 'replace', 'rfind', 'rindex', 'rjust', 'rpartition', 'rsplit', 'rstrip', 'split', 'splitlines', 'startswith', 'strip', 'swapcase', 'title', 'translate', 'upper', 'zfill']\n"
     ]
    }
   ],
   "source": [
    "#dir() 기능 출력 함수\n",
    "print(dir('hello'))"
   ]
  },
  {
   "cell_type": "code",
   "execution_count": 4,
   "id": "2dcc0080-fbdd-485e-8f41-c55334ad6962",
   "metadata": {},
   "outputs": [],
   "source": [
    "a = 'hello my name is hong'"
   ]
  },
  {
   "cell_type": "code",
   "execution_count": 5,
   "id": "0c41e394-b28e-4fc5-b257-ac3b09a2a36e",
   "metadata": {},
   "outputs": [
    {
     "name": "stdout",
     "output_type": "stream",
     "text": [
      "hello my name is hong\n"
     ]
    }
   ],
   "source": [
    "print(a)"
   ]
  },
  {
   "cell_type": "code",
   "execution_count": 7,
   "id": "dae11e4c-9894-47e6-b046-b2685f026966",
   "metadata": {},
   "outputs": [
    {
     "ename": "TypeError",
     "evalue": "'str' object does not support item assignment",
     "output_type": "error",
     "traceback": [
      "\u001b[1;31m---------------------------------------------------------------------------\u001b[0m",
      "\u001b[1;31mTypeError\u001b[0m                                 Traceback (most recent call last)",
      "Cell \u001b[1;32mIn[7], line 1\u001b[0m\n\u001b[1;32m----> 1\u001b[0m \u001b[43ma\u001b[49m\u001b[43m[\u001b[49m\u001b[38;5;241;43m0\u001b[39;49m\u001b[43m]\u001b[49m \u001b[38;5;241m=\u001b[39m \u001b[38;5;124m'\u001b[39m\u001b[38;5;124mH\u001b[39m\u001b[38;5;124m'\u001b[39m\n",
      "\u001b[1;31mTypeError\u001b[0m: 'str' object does not support item assignment"
     ]
    }
   ],
   "source": [
    "a[0] = 'H'"
   ]
  },
  {
   "cell_type": "code",
   "execution_count": 9,
   "id": "875d03ab-1c97-4222-b7da-65891fcc3909",
   "metadata": {},
   "outputs": [
    {
     "name": "stdout",
     "output_type": "stream",
     "text": [
      "Hello my name is hong\n"
     ]
    }
   ],
   "source": [
    "print(a.capitalize())"
   ]
  },
  {
   "cell_type": "code",
   "execution_count": 11,
   "id": "fabdb5af-3b30-4eea-ad40-bb7e97e23405",
   "metadata": {},
   "outputs": [
    {
     "data": {
      "text/plain": [
       "'Hello My Name Is Hong'"
      ]
     },
     "execution_count": 11,
     "metadata": {},
     "output_type": "execute_result"
    }
   ],
   "source": [
    "# 모든 단어들의 첫번째 글자 대문자 변경\n",
    "a.title()"
   ]
  },
  {
   "cell_type": "code",
   "execution_count": 14,
   "id": "f8ed7ce1-078f-43ed-873d-a2cb6df87c1e",
   "metadata": {},
   "outputs": [
    {
     "data": {
      "text/plain": [
       "'HELLO MY NAME IS HONG'"
      ]
     },
     "execution_count": 14,
     "metadata": {},
     "output_type": "execute_result"
    }
   ],
   "source": [
    "# 모든 단어 대문자\n",
    "a.upper()"
   ]
  },
  {
   "cell_type": "code",
   "execution_count": 15,
   "id": "4fb8a8ca-fa38-4bec-9f04-063c580e05e6",
   "metadata": {},
   "outputs": [
    {
     "data": {
      "text/plain": [
       "'hello my name is hong'"
      ]
     },
     "execution_count": 15,
     "metadata": {},
     "output_type": "execute_result"
    }
   ],
   "source": [
    "# 모든 단어 소문자\n",
    "a.lower()"
   ]
  },
  {
   "cell_type": "code",
   "execution_count": 18,
   "id": "71a4b504-fe06-42eb-8e04-e3bfe205ef40",
   "metadata": {},
   "outputs": [],
   "source": [
    "# 원본데이터가 바뀌지 않는 함수는 재할당하면 기능 적용\n",
    "a = a.upper()"
   ]
  },
  {
   "cell_type": "code",
   "execution_count": 17,
   "id": "b11eb199-0289-4ceb-b330-0f231cb318f9",
   "metadata": {},
   "outputs": [
    {
     "name": "stdout",
     "output_type": "stream",
     "text": [
      "HELLO MY NAME IS HONG\n"
     ]
    }
   ],
   "source": [
    "print(a)"
   ]
  },
  {
   "cell_type": "code",
   "execution_count": 19,
   "id": "8843f1a8-b839-4e56-9e4b-ff765321b2e4",
   "metadata": {},
   "outputs": [],
   "source": [
    "my_list = ['my', 'name', 'is']"
   ]
  },
  {
   "cell_type": "code",
   "execution_count": 24,
   "id": "97f47944-1f8a-4de8-aa18-fd6c376ccff7",
   "metadata": {},
   "outputs": [
    {
     "name": "stdout",
     "output_type": "stream",
     "text": [
      "my name is\n"
     ]
    }
   ],
   "source": [
    "# 여러가지 데이터를 하나로 합칠 때 사용\n",
    "print(' '.join(my_list))"
   ]
  },
  {
   "cell_type": "code",
   "execution_count": 26,
   "id": "abf9a65b-62ed-4721-b081-d074388dc6d2",
   "metadata": {},
   "outputs": [
    {
     "name": "stdout",
     "output_type": "stream",
     "text": [
      "         hello      \n",
      "   \n"
     ]
    }
   ],
   "source": [
    "my_string = '         hello      \\n   '\n",
    "print(my_string)"
   ]
  },
  {
   "cell_type": "code",
   "execution_count": 28,
   "id": "a3e4ac69-1e17-43b4-9d5d-657d3e808831",
   "metadata": {},
   "outputs": [
    {
     "name": "stdout",
     "output_type": "stream",
     "text": [
      "hello\n"
     ]
    }
   ],
   "source": [
    "# 좌우공백 지울 때 \n",
    "print(my_string.strip())"
   ]
  },
  {
   "cell_type": "code",
   "execution_count": 31,
   "id": "c423ae37-7635-41e0-8ffd-c92be6987a27",
   "metadata": {},
   "outputs": [
    {
     "name": "stdout",
     "output_type": "stream",
     "text": [
      "hello\n",
      "hello-------------\n",
      "------------hello\n"
     ]
    }
   ],
   "source": [
    "# lstrip = 왼쪽, rstrip = 오른쪽\n",
    "my_string2 = '------------hello-------------'\n",
    "print(my_string2.strip('-'))\n",
    "print(my_string2.lstrip('-'))\n",
    "print(my_string2.rstrip('-'))"
   ]
  },
  {
   "cell_type": "code",
   "execution_count": 35,
   "id": "46c8b54b-9e65-434d-a7b0-15028df89987",
   "metadata": {},
   "outputs": [
    {
     "data": {
      "text/plain": [
       "'w???ooooow'"
      ]
     },
     "execution_count": 35,
     "metadata": {},
     "output_type": "execute_result"
    }
   ],
   "source": [
    "a = 'woooooooow'\n",
    "a.replace('o', '?', 3) #replace(무엇을, 무엇으로[, 바꿀개수(생략 시 전체)])"
   ]
  },
  {
   "cell_type": "code",
   "execution_count": 39,
   "id": "cf7f9e08-081f-436f-a97b-51831231d825",
   "metadata": {},
   "outputs": [
    {
     "name": "stdout",
     "output_type": "stream",
     "text": [
      "0\n",
      "3\n",
      "-1\n"
     ]
    }
   ],
   "source": [
    "a = 'apple'\n",
    "print(a.find('a'))\n",
    "print(a.find('l')) #find - 어느 위치에 있는지 출력\n",
    "print(a.find('z')) #없는 데이터는 음수 "
   ]
  },
  {
   "cell_type": "code",
   "execution_count": 42,
   "id": "2bf2415d-861c-4101-9d39-db6c81adba0a",
   "metadata": {},
   "outputs": [
    {
     "ename": "NameError",
     "evalue": "name 'prnt' is not defined",
     "output_type": "error",
     "traceback": [
      "\u001b[1;31m---------------------------------------------------------------------------\u001b[0m",
      "\u001b[1;31mNameError\u001b[0m                                 Traceback (most recent call last)",
      "Cell \u001b[1;32mIn[42], line 2\u001b[0m\n\u001b[0;32m      1\u001b[0m a \u001b[38;5;241m=\u001b[39m \u001b[38;5;124m'\u001b[39m\u001b[38;5;124mapple\u001b[39m\u001b[38;5;124m'\u001b[39m\n\u001b[1;32m----> 2\u001b[0m \u001b[43mprnt\u001b[49m(a\u001b[38;5;241m.\u001b[39mindex(\u001b[38;5;124m'\u001b[39m\u001b[38;5;124ma\u001b[39m\u001b[38;5;124m'\u001b[39m))\n\u001b[0;32m      3\u001b[0m \u001b[38;5;28mprint\u001b[39m(a\u001b[38;5;241m.\u001b[39mindex(\u001b[38;5;124m'\u001b[39m\u001b[38;5;124mp\u001b[39m\u001b[38;5;124m'\u001b[39m))\n\u001b[0;32m      4\u001b[0m \u001b[38;5;28mprint\u001b[39m(a\u001b[38;5;241m.\u001b[39mindex(\u001b[38;5;124m'\u001b[39m\u001b[38;5;124mz\u001b[39m\u001b[38;5;124m'\u001b[39m)) \u001b[38;5;66;03m#없는 데이터 찾으면 에러 \u001b[39;00m\n",
      "\u001b[1;31mNameError\u001b[0m: name 'prnt' is not defined"
     ]
    }
   ],
   "source": [
    "a = 'apple'\n",
    "prnt(a.index('a'))\n",
    "print(a.index('p'))\n",
    "print(a.index('z')) #없는 데이터 찾으면 에러 "
   ]
  },
  {
   "cell_type": "code",
   "execution_count": 45,
   "id": "f69ab271-251e-4f4f-bd0e-ceee8c251f5b",
   "metadata": {},
   "outputs": [
    {
     "name": "stdout",
     "output_type": "stream",
     "text": [
      "['my', 'name', 'is', 'hong']\n"
     ]
    }
   ],
   "source": [
    "a = 'my_name_is_hong'\n",
    "print(a.split('_')) #split(기준점(생략 시 띄어쓰기 기준)) "
   ]
  },
  {
   "cell_type": "code",
   "execution_count": 46,
   "id": "bf5bc976-7785-4ce6-8031-f6a63f70e0ff",
   "metadata": {},
   "outputs": [
    {
     "data": {
      "text/plain": [
       "6"
      ]
     },
     "execution_count": 46,
     "metadata": {},
     "output_type": "execute_result"
    }
   ],
   "source": [
    "a = 'woooooo'\n",
    "a.count('o')"
   ]
  },
  {
   "cell_type": "markdown",
   "id": "4e4331a1-d060-4507-813e-49dfae31739e",
   "metadata": {},
   "source": [
    "# 리스트 메소드\n",
    "- 리스트형은 수정가능 , 실행 할 때마다 데이터 추가"
   ]
  },
  {
   "cell_type": "code",
   "execution_count": 47,
   "id": "7661dd91-cd83-4989-9a2c-e1d150e4821d",
   "metadata": {},
   "outputs": [],
   "source": [
    "numbers = [1, 2, 3, 7, 5, 6, 9]"
   ]
  },
  {
   "cell_type": "code",
   "execution_count": 49,
   "id": "c57bfaee-7c1b-49b4-ad11-56e7594b9ff7",
   "metadata": {},
   "outputs": [
    {
     "name": "stdout",
     "output_type": "stream",
     "text": [
      "[1, 2, 3, 7, 5, 6, 9, 10, 10]\n"
     ]
    }
   ],
   "source": [
    "numbers.append(10) # list에 데이터 추가 (데이터는 오른쪽으로 순서대로 추가&제거)\n",
    "print(numbers)"
   ]
  },
  {
   "cell_type": "code",
   "execution_count": 51,
   "id": "97b32825-c55d-4d23-a28b-1148e3b2f2cc",
   "metadata": {},
   "outputs": [
    {
     "name": "stdout",
     "output_type": "stream",
     "text": [
      "[1, 2, 3, 7, 5, 6, 9, 10, 10, 99, 100, 99, 100]\n"
     ]
    }
   ],
   "source": [
    "a = [99, 100]\n",
    "numbers.extend(a) #list에 list 추가 \n",
    "print(numbers)"
   ]
  },
  {
   "cell_type": "code",
   "execution_count": 53,
   "id": "c7c249aa-703a-4c3d-b680-bff635295caf",
   "metadata": {},
   "outputs": [
    {
     "name": "stdout",
     "output_type": "stream",
     "text": [
      "[-10, -10, 1, 2, 3, 7, 5, 6, 9, 10, 10, 99, 100, 99, 100]\n"
     ]
    }
   ],
   "source": [
    "numbers.insert(0, -10) # 내가 원하는 위치에 데이터 삽입 insert(어디에, 무엇을)\n",
    "print(numbers)"
   ]
  },
  {
   "cell_type": "code",
   "execution_count": 57,
   "id": "6e39af37-1100-4000-a007-c9fd4c9b30e6",
   "metadata": {},
   "outputs": [
    {
     "ename": "ValueError",
     "evalue": "list.remove(x): x not in list",
     "output_type": "error",
     "traceback": [
      "\u001b[1;31m---------------------------------------------------------------------------\u001b[0m",
      "\u001b[1;31mValueError\u001b[0m                                Traceback (most recent call last)",
      "Cell \u001b[1;32mIn[57], line 2\u001b[0m\n\u001b[0;32m      1\u001b[0m \u001b[38;5;66;03m# x를 찾아서 제거, 없으면 에러 발생\u001b[39;00m\n\u001b[1;32m----> 2\u001b[0m \u001b[43mnumbers\u001b[49m\u001b[38;5;241;43m.\u001b[39;49m\u001b[43mremove\u001b[49m\u001b[43m(\u001b[49m\u001b[38;5;241;43m-\u001b[39;49m\u001b[38;5;241;43m10\u001b[39;49m\u001b[43m)\u001b[49m\n\u001b[0;32m      3\u001b[0m \u001b[38;5;28mprint\u001b[39m(numbers)\n",
      "\u001b[1;31mValueError\u001b[0m: list.remove(x): x not in list"
     ]
    }
   ],
   "source": [
    "# x를 찾아서 제거, 없으면 에러 발생\n",
    "numbers.remove(-10)\n",
    "print(numbers)"
   ]
  },
  {
   "cell_type": "code",
   "execution_count": 62,
   "id": "3f4e8678-87de-4f12-b41a-d407ea137d55",
   "metadata": {},
   "outputs": [
    {
     "name": "stdout",
     "output_type": "stream",
     "text": [
      "[3, 7, 5, 6, 9, 10] 10\n",
      "[7, 5, 6, 9, 10] 3\n"
     ]
    }
   ],
   "source": [
    "result = numbers.pop() #맨 뒤에 있는 데이터 제거 \n",
    "print(numbers, result)\n",
    "#pop() 데이터를 단순히 제거하는 것이 아닌 데이터 추출하여 변수에 저장 할 수 있음\n",
    "result = numbers.pop(0) # (0) 앞에 있는 데이터 제거\n",
    "print(numbers, result)"
   ]
  },
  {
   "cell_type": "code",
   "execution_count": 64,
   "id": "68ee4c2f-1a84-484a-80f3-bf389df7dd7b",
   "metadata": {},
   "outputs": [
    {
     "name": "stdout",
     "output_type": "stream",
     "text": [
      "[5, 6, 7, 9, 10]\n",
      "[10, 9, 7, 6, 5]\n"
     ]
    }
   ],
   "source": [
    "#정렬 기본값 - 오름차순\n",
    "numbers.sort()\n",
    "print(numbers)\n",
    "# 내림차순 reverse=True\n",
    "numbers.sort(reverse=True)\n",
    "print(numbers)"
   ]
  },
  {
   "cell_type": "code",
   "execution_count": 67,
   "id": "cc98acd1-9bdf-46c0-a05d-013c70f2ce3e",
   "metadata": {},
   "outputs": [
    {
     "name": "stdout",
     "output_type": "stream",
     "text": [
      "[2, 3, 4, 5, 7, 8]\n",
      "[5, 4, 7, 8, 3, 2]\n"
     ]
    }
   ],
   "source": [
    "numbers = [5, 4, 7, 8, 3, 2]\n",
    "\n",
    "print(sorted(numbers)) # 내장 함수 sorted 원본데이터 수정 x\n",
    "print(numbers)"
   ]
  },
  {
   "cell_type": "code",
   "execution_count": 71,
   "id": "79ede05f-56d8-48ea-b921-458b21060252",
   "metadata": {},
   "outputs": [
    {
     "name": "stdout",
     "output_type": "stream",
     "text": [
      "['a', 'b', 'c', 'd', 'e', 'j', 'k']\n",
      "['ㄱ', 'ㄹ', 'ㅍ', 'ㅎ']\n"
     ]
    }
   ],
   "source": [
    "my_list = ['b', 'c', 'a', 'd', 'e', 'j', 'k']\n",
    "my_list.sort()\n",
    "print(my_list)\n",
    "# 컴퓨터는 글자를 숫자로 치환하여 정렬 (아스키코드, 유니코드)\n",
    "my_kor = ['ㄱ', 'ㅎ', 'ㄹ', 'ㅍ']\n",
    "my_kor.sort()\n",
    "print(my_kor)"
   ]
  },
  {
   "cell_type": "code",
   "execution_count": 73,
   "id": "9936fb67-67ce-404b-8e66-51b9449e2aa9",
   "metadata": {},
   "outputs": [
    {
     "name": "stdout",
     "output_type": "stream",
     "text": [
      "[5, 4, 7, 8, 3, 2]\n",
      "[2, 3, 8, 7, 4, 5]\n"
     ]
    }
   ],
   "source": [
    "print(numbers)\n",
    "numbers.reverse()\n",
    "print(numbers)"
   ]
  },
  {
   "cell_type": "code",
   "execution_count": 81,
   "id": "de2a11e0-903f-49bd-985d-a497785ce007",
   "metadata": {},
   "outputs": [
    {
     "name": "stdout",
     "output_type": "stream",
     "text": [
      "[2, 3, 8, 7, 4, 5]\n",
      "4\n",
      "[2, 3, 8, 7, 4, 5]\n",
      "[5, 4, 7, 8, 3, 2]\n"
     ]
    }
   ],
   "source": [
    "print(numbers)\n",
    "print(numbers[-2])#음수: 뒤에서부터 접근\n",
    "print(numbers[:])# 맨 앞, 맨 뒤\n",
    "print(numbers[::-1]) # 뒤에서부터 슬라이싱 -> reverse"
   ]
  },
  {
   "cell_type": "markdown",
   "id": "473705d9-43c6-492e-b2ee-afa2c8063114",
   "metadata": {},
   "source": [
    "## list copy\n"
   ]
  },
  {
   "cell_type": "code",
   "execution_count": 89,
   "id": "ac3e9a53-23d5-4da3-87a5-81a13e7b6f02",
   "metadata": {},
   "outputs": [],
   "source": [
    "# 데이터를 저장하는 주소 공유\n",
    "origin_list = [1, 2, 3]\n",
    "copy_list = origin_list"
   ]
  },
  {
   "cell_type": "code",
   "execution_count": 84,
   "id": "1cfc2c1f-8c93-4a76-b70a-c4ca0ece2b41",
   "metadata": {},
   "outputs": [
    {
     "name": "stdout",
     "output_type": "stream",
     "text": [
      "[1, 2, 3]\n",
      "[1, 2, 3]\n"
     ]
    }
   ],
   "source": [
    "print(origin_list)\n",
    "print(copy_list)"
   ]
  },
  {
   "cell_type": "code",
   "execution_count": 85,
   "id": "f0df0e8e-3525-4b6f-9282-94c13df3882d",
   "metadata": {},
   "outputs": [],
   "source": [
    "origin_list[0] = 100 "
   ]
  },
  {
   "cell_type": "code",
   "execution_count": 86,
   "id": "82083a73-feb2-4c36-b755-81c0c32f1c18",
   "metadata": {},
   "outputs": [
    {
     "name": "stdout",
     "output_type": "stream",
     "text": [
      "[100, 2, 3]\n",
      "[100, 2, 3]\n"
     ]
    }
   ],
   "source": [
    "print(origin_list)\n",
    "print(copy_list)"
   ]
  },
  {
   "cell_type": "code",
   "execution_count": 88,
   "id": "dccc8375-a5eb-4f1c-9a1c-5357cdc0a676",
   "metadata": {},
   "outputs": [
    {
     "name": "stdout",
     "output_type": "stream",
     "text": [
      "[100, 2, 3]\n",
      "[1, 2, 3]\n"
     ]
    }
   ],
   "source": [
    "origin_list = [1, 2, 3]\n",
    "copy_list = origin_list[:]\n",
    "\n",
    "origin_list[0] = 100\n",
    "\n",
    "print(origin_list)\n",
    "print(copy_list)"
   ]
  },
  {
   "cell_type": "code",
   "execution_count": 95,
   "id": "15609c53-aad9-4654-ac1f-4c3f94db4774",
   "metadata": {},
   "outputs": [
    {
     "name": "stdout",
     "output_type": "stream",
     "text": [
      "[100, 2, [300, 4]]\n",
      "[1, 2, [300, 4]]\n"
     ]
    }
   ],
   "source": [
    "origin_list = [1, 2, [3, 4]]\n",
    "copy_list = origin_list[:] #다차원 데이터 전부 복사하기 어려움\n",
    "\n",
    "origin_list[0] = 100\n",
    "origin_list[2][0] = 300\n",
    "\n",
    "print(origin_list)\n",
    "print(copy_list)"
   ]
  },
  {
   "cell_type": "code",
   "execution_count": 94,
   "id": "0a5ea8e5-134b-48e9-8904-cfc1f83bf964",
   "metadata": {},
   "outputs": [
    {
     "name": "stdout",
     "output_type": "stream",
     "text": [
      "[100, 2, [300, 4]]\n",
      "[1, 2, [3, 4]]\n"
     ]
    }
   ],
   "source": [
    "import copy\n",
    "\n",
    "origin_list = [1, 2, [3, 4]]\n",
    "copy_list = copy.deepcopy(origin_list) #깊은 복사\n",
    "\n",
    "origin_list[0] =100\n",
    "origin_list[2][0] = 300\n",
    "\n",
    "print(origin_list)\n",
    "print(copy_list)"
   ]
  },
  {
   "cell_type": "markdown",
   "id": "5787eb98-a2aa-4114-9c05-e2d48ec8d75e",
   "metadata": {},
   "source": [
    "## list comprehension\n",
    "- 리스트 안에 반복문, 조건문을 넣는 형식\n",
    "- list = [계산할 식 반복문 or 조건문]"
   ]
  },
  {
   "cell_type": "code",
   "execution_count": 99,
   "id": "9b77c4e6-1f90-4fe8-a56b-e97c1dd40a75",
   "metadata": {},
   "outputs": [
    {
     "name": "stdout",
     "output_type": "stream",
     "text": [
      "[1, 2, 3, 4, 5, 6, 7, 8, 9, 10]\n"
     ]
    }
   ],
   "source": [
    "numbers = list(range(1,11))\n",
    "print(numbers)"
   ]
  },
  {
   "cell_type": "code",
   "execution_count": 100,
   "id": "efac6765-fb11-4d17-aca1-3bfbb43c05cd",
   "metadata": {},
   "outputs": [
    {
     "name": "stdout",
     "output_type": "stream",
     "text": [
      "[1, 8, 27, 64, 125, 216, 343, 512, 729, 1000]\n"
     ]
    }
   ],
   "source": [
    "# => [1, 8, 27...1000]\n",
    "result = []\n",
    "for num in numbers:\n",
    "    temp =num ** 3\n",
    "    result.append(temp)\n",
    "\n",
    "print(result)"
   ]
  },
  {
   "cell_type": "code",
   "execution_count": 101,
   "id": "c0e2c8ea-bb6e-4931-8ebc-58df41447191",
   "metadata": {},
   "outputs": [
    {
     "name": "stdout",
     "output_type": "stream",
     "text": [
      "[1, 8, 27, 64, 125, 216, 343, 512, 729, 1000]\n"
     ]
    }
   ],
   "source": [
    "result = [number ** 3 for number in numbers]\n",
    "print(result)"
   ]
  },
  {
   "cell_type": "code",
   "execution_count": 102,
   "id": "f97844f1-f5f5-4eaf-aa0f-cd0c8df11e4d",
   "metadata": {},
   "outputs": [
    {
     "name": "stdout",
     "output_type": "stream",
     "text": [
      "[2, 4, 6, 8, 10]\n"
     ]
    }
   ],
   "source": [
    "# 짝수만 고르기\n",
    "result = []\n",
    "for number in numbers:\n",
    "    if number % 2 == 0:\n",
    "        result.append(number)\n",
    "print(result)"
   ]
  },
  {
   "cell_type": "code",
   "execution_count": 104,
   "id": "b861fe9a-5ef1-46ca-91a4-88997bc4c2c7",
   "metadata": {},
   "outputs": [
    {
     "name": "stdout",
     "output_type": "stream",
     "text": [
      "[2, 4, 6, 8, 10]\n"
     ]
    }
   ],
   "source": [
    "result = [number for number in numbers if number % 2 == 0]\n",
    "print(result)"
   ]
  },
  {
   "cell_type": "code",
   "execution_count": 119,
   "id": "6d6ead8c-1972-4fa9-9641-2a086c33613e",
   "metadata": {},
   "outputs": [],
   "source": [
    "# 연습 모음 제거\n",
    "words = 'my name is hong'\n",
    "\n",
    "# => my mn s hng"
   ]
  },
  {
   "cell_type": "code",
   "execution_count": 120,
   "id": "502b0a35-0d92-4eeb-9672-7444e9bad6ee",
   "metadata": {},
   "outputs": [
    {
     "name": "stdout",
     "output_type": "stream",
     "text": [
      "['m', 'y', ' ', 'n', 'm', ' ', 's', ' ', 'h', 'n', 'g']\n"
     ]
    }
   ],
   "source": [
    "# vowels = ['a', 'e', 'i', 'o', 'u']\n",
    "vowels = 'aeiou'\n",
    "result = []\n",
    "for char in words:\n",
    "    if char in vowels:\n",
    "        # 모음인 경우\n",
    "        pass\n",
    "    else:\n",
    "        # 자음인 경우\n",
    "        result.append(char)\n",
    "print(result)"
   ]
  },
  {
   "cell_type": "code",
   "execution_count": 123,
   "id": "ce01eabd-d890-47a1-a502-47dd396376fb",
   "metadata": {},
   "outputs": [
    {
     "name": "stdout",
     "output_type": "stream",
     "text": [
      "['m', 'y', ' ', 'n', 'm', ' ', 's', ' ', 'h', 'n', 'g']\n",
      "my nm s hng\n"
     ]
    }
   ],
   "source": [
    "vowels = 'aeiou'\n",
    "result = []\n",
    "for char in words:\n",
    "    if char not in vowels:\n",
    "        # 모음인 경우 => 자음인 경우\n",
    "        result.append(char)\n",
    "    #else:\n",
    "        # 자음인 경우 => 모음인 경우\n",
    "        \n",
    "print(result)\n",
    "print(''.join(result))"
   ]
  },
  {
   "cell_type": "code",
   "execution_count": 124,
   "id": "64acab8e-39e0-47b4-bf21-613ae6fe30e2",
   "metadata": {},
   "outputs": [
    {
     "name": "stdout",
     "output_type": "stream",
     "text": [
      "my nm s hng\n"
     ]
    }
   ],
   "source": [
    "vowels = 'aeiou'\n",
    "result = [char for char in words if char not in vowels]\n",
    "print(''.join(result))"
   ]
  },
  {
   "cell_type": "code",
   "execution_count": 128,
   "id": "734ab670-70a7-42c4-8c26-a903ae589ac8",
   "metadata": {},
   "outputs": [
    {
     "name": "stdout",
     "output_type": "stream",
     "text": [
      "my nm s hng\n"
     ]
    }
   ],
   "source": [
    "# 3. replace 메소드 활용\n",
    "vowels = 'aeiou'\n",
    "\n",
    "for char in vowels:\n",
    "    words = words.replace(char,'')\n",
    "\n",
    "print(words)"
   ]
  },
  {
   "cell_type": "code",
   "execution_count": 126,
   "id": "dabfac77-da16-4d6e-8e8a-2d6b55c6a6db",
   "metadata": {},
   "outputs": [
    {
     "name": "stdout",
     "output_type": "stream",
     "text": [
      "1sdf\n",
      "asdf\n"
     ]
    }
   ],
   "source": [
    "a = 'asdf'\n",
    "print(a.replace('a','1'))\n",
    "print(a)"
   ]
  },
  {
   "cell_type": "markdown",
   "id": "3271de96-c452-402b-a5d8-bf258834e75f",
   "metadata": {},
   "source": [
    "# dictionary 메소드"
   ]
  },
  {
   "cell_type": "code",
   "execution_count": 143,
   "id": "90096f83-ff19-4ee1-8dcf-5ef57c0bd69d",
   "metadata": {},
   "outputs": [],
   "source": [
    "info ={\n",
    "    'name': 'hong',\n",
    "    'location': 'seoul',\n",
    "    'age': 20,\n",
    "    'models': ['iphone', 'mac book', 'watch'],\n",
    "    'phone_book': {\n",
    "        'kim': '010-1234-1234',\n",
    "        'lee': '010-4567-4567',\n",
    "    } \n",
    "}"
   ]
  },
  {
   "cell_type": "code",
   "execution_count": 144,
   "id": "9f4bc3c4-9acc-49f8-bd7d-3d41f7fde847",
   "metadata": {},
   "outputs": [
    {
     "name": "stdout",
     "output_type": "stream",
     "text": [
      "hong\n",
      "iphone\n",
      "010-1234-1234\n"
     ]
    }
   ],
   "source": [
    "print(info['name'])\n",
    "print(info['models'][0])\n",
    "print(info['phone_book']['kim'])"
   ]
  },
  {
   "cell_type": "code",
   "execution_count": 145,
   "id": "d1c30249-3d86-430b-a473-be8f26465f22",
   "metadata": {},
   "outputs": [
    {
     "name": "stdout",
     "output_type": "stream",
     "text": [
      "{'name': 'park', 'location': 'seoul', 'age': 20, 'models': ['iphone', 'mac book', 'watch'], 'phone_book': {'kim': '010-1234-1234', 'lee': '010-4567-4567'}}\n",
      "{'name': 'oh', 'location': 'seoul', 'age': 20, 'models': ['iphone', 'mac book', 'watch'], 'phone_book': {'kim': '010-1234-1234', 'lee': '010-4567-4567'}}\n"
     ]
    }
   ],
   "source": [
    "# 데이터 수정\n",
    "info['name'] = 'park'\n",
    "print(info)\n",
    "\n",
    "info.update(name='oh')\n",
    "print(info)"
   ]
  },
  {
   "cell_type": "code",
   "execution_count": 146,
   "id": "bd0a271e-29f5-4156-b9ed-56176853f3a0",
   "metadata": {},
   "outputs": [
    {
     "name": "stdout",
     "output_type": "stream",
     "text": [
      "{'name': 'oh', 'location': 'seoul', 'models': ['iphone', 'mac book', 'watch'], 'phone_book': {'kim': '010-1234-1234', 'lee': '010-4567-4567'}} 20\n"
     ]
    }
   ],
   "source": [
    "# 내가 원하는 데이터 꺼내서 리턴 \n",
    "age = info.pop('age')\n",
    "print(info, age)"
   ]
  },
  {
   "cell_type": "code",
   "execution_count": 147,
   "id": "66b1e218-a93c-4ed5-99a6-d238e449d652",
   "metadata": {},
   "outputs": [
    {
     "name": "stdout",
     "output_type": "stream",
     "text": [
      "oh\n",
      "oh\n"
     ]
    }
   ],
   "source": [
    "print(info.get('name'))\n",
    "print(info['name'])"
   ]
  },
  {
   "cell_type": "code",
   "execution_count": 148,
   "id": "82ab4f13-4034-42e4-ad3f-fcc74c998e11",
   "metadata": {},
   "outputs": [
    {
     "ename": "KeyError",
     "evalue": "'birth'",
     "output_type": "error",
     "traceback": [
      "\u001b[1;31m---------------------------------------------------------------------------\u001b[0m",
      "\u001b[1;31mKeyError\u001b[0m                                  Traceback (most recent call last)",
      "Cell \u001b[1;32mIn[148], line 1\u001b[0m\n\u001b[1;32m----> 1\u001b[0m \u001b[38;5;28mprint\u001b[39m(\u001b[43minfo\u001b[49m\u001b[43m[\u001b[49m\u001b[38;5;124;43m'\u001b[39;49m\u001b[38;5;124;43mbirth\u001b[39;49m\u001b[38;5;124;43m'\u001b[39;49m\u001b[43m]\u001b[49m)\n",
      "\u001b[1;31mKeyError\u001b[0m: 'birth'"
     ]
    }
   ],
   "source": [
    "print(info['birth'])"
   ]
  },
  {
   "cell_type": "code",
   "execution_count": 149,
   "id": "f701693c-9e62-45d2-ae29-a3b1925cdd45",
   "metadata": {},
   "outputs": [
    {
     "name": "stdout",
     "output_type": "stream",
     "text": [
      "None\n"
     ]
    }
   ],
   "source": [
    "print(info.get('birth'))"
   ]
  },
  {
   "cell_type": "code",
   "execution_count": 151,
   "id": "2426a9c4-f359-451c-9ab5-7c9a5aa3d5b9",
   "metadata": {},
   "outputs": [
    {
     "name": "stdout",
     "output_type": "stream",
     "text": [
      "{'A': 2, 'B': 2, 'AB': 1, 'O': 1}\n"
     ]
    }
   ],
   "source": [
    "# 연습문제\n",
    "blood_type = ['A', 'B', 'B', 'O', 'AB', 'A']\n",
    "\n",
    "# => blood_dict = {'A': 2, 'B': 2, 'AB':1, 'O': 1}\n",
    "\n",
    "result = {\n",
    "    'A': 0,\n",
    "    'B': 0,\n",
    "    'AB': 0,\n",
    "    'O': 0,\n",
    "}\n",
    "for blood in blood_type:\n",
    "    result[blood] += 1\n",
    "\n",
    "print(result)\n",
    "\n",
    "    "
   ]
  },
  {
   "cell_type": "code",
   "execution_count": 155,
   "id": "b400d8df-4fed-417f-9199-cc9c7b3230b4",
   "metadata": {},
   "outputs": [
    {
     "name": "stdout",
     "output_type": "stream",
     "text": [
      "{'서울': 2, '대전': 1, '부산': 1, '강릉': 1}\n"
     ]
    }
   ],
   "source": [
    "location = ['서울', '대전', '서울', '부산', '강릉']\n",
    "\n",
    "result = {}\n",
    "for loc in location:\n",
    "    # result의 key에 location이 있으면 \n",
    "    if result.get(loc):\n",
    "        result[loc] += 1\n",
    "    # result의 key에 location이 없으면\n",
    "    else:\n",
    "        result[loc] = 1\n",
    "\n",
    "print(result)\n",
    "        \n",
    "\n",
    "\n",
    "        "
   ]
  },
  {
   "cell_type": "code",
   "execution_count": 156,
   "id": "5c957ab0-c095-4b05-8b61-f040571b66be",
   "metadata": {},
   "outputs": [
    {
     "name": "stdout",
     "output_type": "stream",
     "text": [
      "{'서울': 2, '대전': 1, '부산': 1, '강릉': 1}\n"
     ]
    }
   ],
   "source": [
    "result = {}\n",
    "for loc in location:\n",
    "    result.update({loc: location.count(loc)})\n",
    "\n",
    "print(result)"
   ]
  },
  {
   "cell_type": "markdown",
   "id": "741a664f-455b-4dfd-b083-4baf592a9c4c",
   "metadata": {},
   "source": [
    "## dict comprehension"
   ]
  },
  {
   "cell_type": "code",
   "execution_count": 157,
   "id": "9aca5693-9845-4f91-8ed8-78c8dceb32d3",
   "metadata": {},
   "outputs": [
    {
     "name": "stdout",
     "output_type": "stream",
     "text": [
      "{1: 1, 2: 8, 3: 27, 4: 64, 5: 125, 6: 216, 7: 343, 8: 512, 9: 729, 10: 1000}\n"
     ]
    }
   ],
   "source": [
    "# {1: 1, 2: 8, 3: 27...10: 1000}\n",
    "result = {}\n",
    "numbers = list(range(1, 11))\n",
    "\n",
    "for number in numbers:\n",
    "    result[number] = number ** 3\n",
    "\n",
    "print(result)"
   ]
  },
  {
   "cell_type": "code",
   "execution_count": 158,
   "id": "a909c6e3-f4cf-4f8f-b580-cbab962d9194",
   "metadata": {},
   "outputs": [
    {
     "name": "stdout",
     "output_type": "stream",
     "text": [
      "{1: 1, 2: 8, 3: 27, 4: 64, 5: 125, 6: 216, 7: 343, 8: 512, 9: 729, 10: 1000}\n"
     ]
    }
   ],
   "source": [
    "result = {number: number ** 3 for number in numbers}\n",
    "print(result)"
   ]
  },
  {
   "cell_type": "code",
   "execution_count": 163,
   "id": "1ceb40eb-406d-4625-9156-eccf5b2990db",
   "metadata": {},
   "outputs": [
    {
     "name": "stdout",
     "output_type": "stream",
     "text": [
      "{'대전': 100, '광주': 90}\n"
     ]
    }
   ],
   "source": [
    "dust ={\n",
    "    '서울': 50,\n",
    "    '대전': 100,\n",
    "    '부산': 70,\n",
    "    '광주': 90,\n",
    "}\n",
    "# result = {'대전': 100, '광주': 90}\n",
    "\n",
    "result = {}\n",
    "for key, value in dust.items():\n",
    "    if value > 70:\n",
    "        result[key] = value\n",
    "print(result)"
   ]
  },
  {
   "cell_type": "code",
   "execution_count": 167,
   "id": "89bb1314-35b8-4f43-978d-eb2ffa85c283",
   "metadata": {},
   "outputs": [
    {
     "name": "stdout",
     "output_type": "stream",
     "text": [
      "{'대전': '나쁨', '광주': '나쁨'}\n"
     ]
    }
   ],
   "source": [
    "result = {k: '나쁨' for k, v in dust.items() if v > 70 } # 넣고 싶은 값 치환하여 넣을 수 있음\n",
    "print(result)"
   ]
  },
  {
   "cell_type": "markdown",
   "id": "d2eb992c-f0ab-46b5-b7e6-0df312bdc0a3",
   "metadata": {},
   "source": [
    "# set 메소드"
   ]
  },
  {
   "cell_type": "code",
   "execution_count": 194,
   "id": "24b750d7-2e41-4159-8ccb-80bcd0f20720",
   "metadata": {},
   "outputs": [
    {
     "name": "stdout",
     "output_type": "stream",
     "text": [
      "{'apple', 'melon', 'banana'}\n"
     ]
    }
   ],
   "source": [
    "fruits = {'apple', 'banana', 'melon', 'apple'}\n",
    "print(fruits)"
   ]
  },
  {
   "cell_type": "code",
   "execution_count": 195,
   "id": "1e9b8081-dd67-4220-9973-494e3002b61c",
   "metadata": {},
   "outputs": [
    {
     "name": "stdout",
     "output_type": "stream",
     "text": [
      "{'apple', 'melon', 'watermelon', 'banana'}\n"
     ]
    }
   ],
   "source": [
    "fruits.add('watermelon') # 단일데이터 추가\n",
    "print(fruits)"
   ]
  },
  {
   "cell_type": "code",
   "execution_count": 196,
   "id": "989e985c-fc13-4a67-9271-59f174f0f541",
   "metadata": {},
   "outputs": [
    {
     "name": "stdout",
     "output_type": "stream",
     "text": [
      "{'melon', 'watermelon', 'orange', 'banana', 'apple', 'grape'}\n"
     ]
    }
   ],
   "source": [
    "fruits.update({'grape', 'orange'}) #update 시 set 형식(여러데이트)으로 넣어줘야함 => list의 extends 비슷한 역할\n",
    "print(fruits)"
   ]
  },
  {
   "cell_type": "code",
   "execution_count": 197,
   "id": "4b2e57c8-d35d-4c73-bb2f-ac41ab92198b",
   "metadata": {},
   "outputs": [
    {
     "name": "stdout",
     "output_type": "stream",
     "text": [
      "{'melon', 'watermelon', 'orange', 'banana', 'grape'}\n"
     ]
    }
   ],
   "source": [
    "fruits.remove('apple') #단일 데이터 제거\n",
    "print(fruits)"
   ]
  },
  {
   "cell_type": "code",
   "execution_count": 198,
   "id": "2cdb36a7-8f3b-4087-9baa-fef0a3572284",
   "metadata": {},
   "outputs": [
    {
     "name": "stdout",
     "output_type": "stream",
     "text": [
      "{'watermelon', 'orange', 'banana', 'grape'}\n"
     ]
    }
   ],
   "source": [
    "fruits.pop() #순서 보장되지 않음\n",
    "print(fruits)"
   ]
  },
  {
   "cell_type": "markdown",
   "id": "58f8bc46-c8da-4dbc-9d64-99a93b645d44",
   "metadata": {},
   "source": [
    "## map, filter, zip\n",
    "### map\n",
    "- map(function, iterable)\n",
    "- 반복작업을 대신해줌\n",
    "- 단일데이터에만 적용하는 함수 사용(일반적으로 list)\n",
    "- print(list())리스트로 감싸야 출력"
   ]
  },
  {
   "cell_type": "code",
   "execution_count": 199,
   "id": "e89bd3cb-1122-48fd-a88c-afe60edc726c",
   "metadata": {},
   "outputs": [
    {
     "name": "stdout",
     "output_type": "stream",
     "text": [
      "['1', '2', '3', '4', '5']\n"
     ]
    }
   ],
   "source": [
    "numbers = [1, 2, 3, 4, 5]\n",
    "# ['1', '2', '3', '4', '5']\n",
    "\n",
    "result = []\n",
    "for number in numbers:\n",
    "    result.append(str(number))\n",
    "\n",
    "print(result)"
   ]
  },
  {
   "cell_type": "code",
   "execution_count": 201,
   "id": "c8695c6c-3236-4f4c-9a1b-72933bd96cd1",
   "metadata": {},
   "outputs": [
    {
     "name": "stdout",
     "output_type": "stream",
     "text": [
      "<map object at 0x0000023639D8BF70>\n",
      "['1', '2', '3', '4', '5']\n"
     ]
    }
   ],
   "source": [
    "result = map(str, numbers)\n",
    "print(result)\n",
    "print(list(result))"
   ]
  },
  {
   "cell_type": "code",
   "execution_count": 202,
   "id": "8f2a5191-cc44-4dcd-a327-924ffdffecf9",
   "metadata": {},
   "outputs": [
    {
     "name": "stdout",
     "output_type": "stream",
     "text": [
      "[1, 8, 27, 64, 125]\n"
     ]
    }
   ],
   "source": [
    "result = []\n",
    "for number in numbers:\n",
    "    result.append(number ** 3)\n",
    "\n",
    "print(result)"
   ]
  },
  {
   "cell_type": "code",
   "execution_count": 203,
   "id": "4d9f7a9c-d303-4594-af24-65d924a7e244",
   "metadata": {},
   "outputs": [],
   "source": [
    "def cube(x):\n",
    "    return x ** 3"
   ]
  },
  {
   "cell_type": "code",
   "execution_count": 204,
   "id": "eaf59c01-a267-4ccf-8fdd-b655fe4d173b",
   "metadata": {},
   "outputs": [
    {
     "name": "stdout",
     "output_type": "stream",
     "text": [
      "[1, 8, 27, 64, 125]\n"
     ]
    }
   ],
   "source": [
    "result = map(cube, numbers)\n",
    "print(list(result))"
   ]
  },
  {
   "cell_type": "code",
   "execution_count": 208,
   "id": "cb16150e-1c27-45d9-9cc9-3c98bd4eb342",
   "metadata": {},
   "outputs": [
    {
     "name": "stdout",
     "output_type": "stream",
     "text": [
      "[1, 3, 5, 7, 9]\n"
     ]
    }
   ],
   "source": [
    "test_input = '1 3 5 7 9'\n",
    "print(list(map(int,test_input.split())))"
   ]
  },
  {
   "cell_type": "markdown",
   "id": "2f1c8033-465c-42d9-be43-38a55c8d4956",
   "metadata": {},
   "source": [
    "### filter\n",
    "- filter(function, iterable)\n",
    "- True or False를 반환하는 함수사용"
   ]
  },
  {
   "cell_type": "code",
   "execution_count": 209,
   "id": "af694b83-bcd4-4181-9747-ec9beabd2c36",
   "metadata": {},
   "outputs": [],
   "source": [
    "def is_odd(x):\n",
    "    return x % 2"
   ]
  },
  {
   "cell_type": "code",
   "execution_count": 211,
   "id": "21fd3560-5c45-4556-beee-a2e1bf665379",
   "metadata": {},
   "outputs": [
    {
     "name": "stdout",
     "output_type": "stream",
     "text": [
      "[1, 3, 5]\n"
     ]
    }
   ],
   "source": [
    "numbers = [1, 2, 3, 4, 5]\n",
    "\n",
    "result = []\n",
    "for num in numbers:\n",
    "    if num % 2: \n",
    "        result.append(num)\n",
    "print(result)"
   ]
  },
  {
   "cell_type": "code",
   "execution_count": 213,
   "id": "41e96ff9-42d7-47a4-ae62-6e8830553257",
   "metadata": {},
   "outputs": [
    {
     "name": "stdout",
     "output_type": "stream",
     "text": [
      "[1, 3, 5]\n"
     ]
    }
   ],
   "source": [
    "result = filter(is_odd, numbers)\n",
    "print(list(result))"
   ]
  },
  {
   "cell_type": "markdown",
   "id": "bd7bd0e9-11d7-4ccb-bdfa-7de61cd669de",
   "metadata": {},
   "source": [
    "### zip\n",
    "- 어떤 배열 2개를 합할 때 사용\n",
    "- 같은 위치에 있는 데이터를 튜플 형식으로 묶어서 반환\n",
    "- 길이가 다르면 같은 길이까지만 반환"
   ]
  },
  {
   "cell_type": "code",
   "execution_count": 215,
   "id": "d818c365-2642-40bd-ba6a-5de3bb2bbc1e",
   "metadata": {},
   "outputs": [
    {
     "name": "stdout",
     "output_type": "stream",
     "text": [
      "<zip object at 0x0000023639F965C0>\n",
      "[(1, 100), (2, 200), (3, 300)]\n"
     ]
    }
   ],
   "source": [
    "a = [1, 2, 3]\n",
    "b = [100, 200, 300, 400, 500]\n",
    "\n",
    "result = zip(a, b)\n",
    "print(result)\n",
    "print(list(result))"
   ]
  },
  {
   "cell_type": "code",
   "execution_count": null,
   "id": "941b289d-dd34-41cb-9f4d-dd705f00d071",
   "metadata": {},
   "outputs": [],
   "source": []
  },
  {
   "cell_type": "code",
   "execution_count": null,
   "id": "04483e68-02af-45dc-a5e0-88b16256ffc5",
   "metadata": {},
   "outputs": [],
   "source": []
  },
  {
   "cell_type": "code",
   "execution_count": null,
   "id": "987b57ac-67ee-40d4-839e-f78ed5d9ccc2",
   "metadata": {},
   "outputs": [],
   "source": []
  },
  {
   "cell_type": "code",
   "execution_count": null,
   "id": "bcddc3d7-60f0-4f8a-81ac-12c450605700",
   "metadata": {},
   "outputs": [],
   "source": []
  },
  {
   "cell_type": "code",
   "execution_count": null,
   "id": "0d0ee9ab-fbc5-4370-ac87-ad03fd9b9926",
   "metadata": {},
   "outputs": [],
   "source": []
  }
 ],
 "metadata": {
  "kernelspec": {
   "display_name": "Python 3 (ipykernel)",
   "language": "python",
   "name": "python3"
  },
  "language_info": {
   "codemirror_mode": {
    "name": "ipython",
    "version": 3
   },
   "file_extension": ".py",
   "mimetype": "text/x-python",
   "name": "python",
   "nbconvert_exporter": "python",
   "pygments_lexer": "ipython3",
   "version": "3.12.4"
  }
 },
 "nbformat": 4,
 "nbformat_minor": 5
}
