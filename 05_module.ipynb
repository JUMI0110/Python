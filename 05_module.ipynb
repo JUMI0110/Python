{
 "cells": [
  {
   "cell_type": "markdown",
   "id": "f95bb556-0f03-454d-af23-00c940b5ffbf",
   "metadata": {},
   "source": [
    "# 모듈\n",
    "- import 모듈: 모듈을 불러와서 실행\n",
    "- 재사용할 함수를 파일 단위로 관리\n"
   ]
  },
  {
   "cell_type": "code",
   "execution_count": 13,
   "id": "84698c90-9480-460b-bf5b-cad364182fa4",
   "metadata": {},
   "outputs": [],
   "source": [
    "import fact"
   ]
  },
  {
   "cell_type": "code",
   "execution_count": 14,
   "id": "112e2062-a00d-40ae-922a-1746fb93f768",
   "metadata": {},
   "outputs": [
    {
     "name": "stdout",
     "output_type": "stream",
     "text": [
      "<module 'fact' from 'C:\\\\Users\\\\2-12\\\\Desktop\\\\DMF\\\\Python\\\\fact.py'>\n"
     ]
    }
   ],
   "source": [
    "print(fact)"
   ]
  },
  {
   "cell_type": "code",
   "execution_count": 15,
   "id": "10c5be21-e512-43be-8d98-f02f47ccacf7",
   "metadata": {},
   "outputs": [
    {
     "name": "stdout",
     "output_type": "stream",
     "text": [
      "120\n"
     ]
    }
   ],
   "source": [
    "print(fact.fact(5))"
   ]
  },
  {
   "cell_type": "code",
   "execution_count": 16,
   "id": "9ccb8329-ed19-488d-a60e-3bc1aa8a8e8c",
   "metadata": {},
   "outputs": [
    {
     "name": "stdout",
     "output_type": "stream",
     "text": [
      "3\n"
     ]
    }
   ],
   "source": [
    "print(fact.my_max(2,3))"
   ]
  },
  {
   "cell_type": "code",
   "execution_count": 17,
   "id": "86bfd691-2464-477c-aa0d-5363ece59fb8",
   "metadata": {},
   "outputs": [
    {
     "ename": "AttributeError",
     "evalue": "module 'fact' has no attribute 'my_number'",
     "output_type": "error",
     "traceback": [
      "\u001b[1;31m---------------------------------------------------------------------------\u001b[0m",
      "\u001b[1;31mAttributeError\u001b[0m                            Traceback (most recent call last)",
      "Cell \u001b[1;32mIn[17], line 1\u001b[0m\n\u001b[1;32m----> 1\u001b[0m \u001b[38;5;28mprint\u001b[39m(\u001b[43mfact\u001b[49m\u001b[38;5;241;43m.\u001b[39;49m\u001b[43mmy_number\u001b[49m)\n",
      "\u001b[1;31mAttributeError\u001b[0m: module 'fact' has no attribute 'my_number'"
     ]
    }
   ],
   "source": [
    "# print(fact.my_number)"
   ]
  },
  {
   "cell_type": "code",
   "execution_count": 18,
   "id": "d01ede56-cf7e-4e3b-87b2-cc68a08db29a",
   "metadata": {},
   "outputs": [
    {
     "data": {
      "text/plain": [
       "['__builtins__',\n",
       " '__cached__',\n",
       " '__doc__',\n",
       " '__file__',\n",
       " '__loader__',\n",
       " '__name__',\n",
       " '__package__',\n",
       " '__spec__',\n",
       " 'fact',\n",
       " 'my_max']"
      ]
     },
     "execution_count": 18,
     "metadata": {},
     "output_type": "execute_result"
    }
   ],
   "source": [
    "dir(fact)"
   ]
  },
  {
   "cell_type": "markdown",
   "id": "637b7847-ccd7-49e6-8f98-137213926b4d",
   "metadata": {},
   "source": [
    "# package 패키지\n",
    "\n",
    "```\n",
    "myPackage/\n",
    "    __init__.py\n",
    "    math/\n",
    "        __init__.py\n",
    "```\n",
    "\n",
    "패키지 안에 `__init__` 파일이 존재해야만 패키지로 인식"
   ]
  },
  {
   "cell_type": "code",
   "execution_count": 24,
   "id": "442e4c39-c383-481a-abc9-b4de4786938f",
   "metadata": {},
   "outputs": [],
   "source": [
    "import myPackage"
   ]
  },
  {
   "cell_type": "code",
   "execution_count": 25,
   "id": "0393d8e9-1407-4e60-8aff-04167771c458",
   "metadata": {},
   "outputs": [
    {
     "name": "stdout",
     "output_type": "stream",
     "text": [
      "<module 'myPackage' from 'C:\\\\Users\\\\2-12\\\\Desktop\\\\DMF\\\\Python\\\\myPackage\\\\__init__.py'>\n"
     ]
    }
   ],
   "source": [
    "print(myPackage)"
   ]
  },
  {
   "cell_type": "code",
   "execution_count": 27,
   "id": "930a2ace-a558-48f1-b5b2-b7f643fb9521",
   "metadata": {},
   "outputs": [],
   "source": [
    "import myPackage"
   ]
  },
  {
   "cell_type": "code",
   "execution_count": 31,
   "id": "f37e987d-cb09-40f5-8ad9-8adc6a5d40f8",
   "metadata": {},
   "outputs": [],
   "source": [
    "from myPackage.math import fomula"
   ]
  },
  {
   "cell_type": "code",
   "execution_count": 34,
   "id": "5549d346-5a1b-4467-8b92-17e6dc8c0ff0",
   "metadata": {},
   "outputs": [
    {
     "data": {
      "text/plain": [
       "2"
      ]
     },
     "execution_count": 34,
     "metadata": {},
     "output_type": "execute_result"
    }
   ],
   "source": [
    "fomula.my_max(1, 2)"
   ]
  },
  {
   "cell_type": "code",
   "execution_count": 35,
   "id": "624b3048-33df-4f17-bf1b-2bce3d0e6da0",
   "metadata": {},
   "outputs": [
    {
     "data": {
      "text/plain": [
       "3.14"
      ]
     },
     "execution_count": 35,
     "metadata": {},
     "output_type": "execute_result"
    }
   ],
   "source": [
    "fomula.pi"
   ]
  },
  {
   "cell_type": "code",
   "execution_count": 39,
   "id": "7e3c9bde-ae9d-4501-bd36-da847dbab6dc",
   "metadata": {},
   "outputs": [],
   "source": [
    "from myPackage.math.fomula import my_max, fact, pi"
   ]
  },
  {
   "cell_type": "code",
   "execution_count": 40,
   "id": "f3e6e72b-d065-444b-8481-cb5a1715c633",
   "metadata": {},
   "outputs": [
    {
     "name": "stdout",
     "output_type": "stream",
     "text": [
      "2\n",
      "120\n",
      "3.14\n"
     ]
    }
   ],
   "source": [
    "print(my_max(1, 2))\n",
    "print(fact(5))\n",
    "print(pi)"
   ]
  },
  {
   "cell_type": "code",
   "execution_count": 42,
   "id": "9b17e658-b434-45c6-bfdf-2f6292dc7470",
   "metadata": {},
   "outputs": [
    {
     "name": "stdout",
     "output_type": "stream",
     "text": [
      "3.14\n"
     ]
    }
   ],
   "source": [
    "from myPackage.math.fomula import * # *: 모든 경우의 수 \n",
    "print(pi)"
   ]
  },
  {
   "cell_type": "code",
   "execution_count": 47,
   "id": "ab2192a0-7998-483b-9049-726aa2c95ea0",
   "metadata": {},
   "outputs": [
    {
     "name": "stdout",
     "output_type": "stream",
     "text": [
      "1234\n",
      "<module 'myPackage.math.fomula' from 'C:\\\\Users\\\\2-12\\\\Desktop\\\\DMF\\\\Python\\\\myPackage\\\\math\\\\fomula.py'>\n"
     ]
    }
   ],
   "source": [
    "fomula = 1234\n",
    "from myPackage.math import fomula as f\n",
    "# as: 별칭\n",
    "print(fomula)\n",
    "print(f)"
   ]
  },
  {
   "cell_type": "markdown",
   "id": "af206bfb-d148-4dad-9ab9-3379b71fe4d4",
   "metadata": {},
   "source": [
    "## 파이썬 내장 패키지\n",
    "- pypi 함수 불러와서 사용할 수 있음"
   ]
  },
  {
   "cell_type": "markdown",
   "id": "61b5634c-18d3-4bbe-8383-dc9d8c06aa60",
   "metadata": {},
   "source": [
    "### math"
   ]
  },
  {
   "cell_type": "code",
   "execution_count": 48,
   "id": "752f1ba7-93c6-4815-bf0e-d733793f5438",
   "metadata": {},
   "outputs": [],
   "source": [
    "import math "
   ]
  },
  {
   "cell_type": "code",
   "execution_count": 49,
   "id": "d21f0fb0-6a6e-4a76-ba89-d2f972fd7b9c",
   "metadata": {},
   "outputs": [
    {
     "data": {
      "text/plain": [
       "3.141592653589793"
      ]
     },
     "execution_count": 49,
     "metadata": {},
     "output_type": "execute_result"
    }
   ],
   "source": [
    "math.pi"
   ]
  },
  {
   "cell_type": "code",
   "execution_count": 50,
   "id": "f289c730-3b79-49d7-b922-5a3780ebcfbf",
   "metadata": {},
   "outputs": [
    {
     "data": {
      "text/plain": [
       "2.718281828459045"
      ]
     },
     "execution_count": 50,
     "metadata": {},
     "output_type": "execute_result"
    }
   ],
   "source": [
    "math.e"
   ]
  },
  {
   "cell_type": "code",
   "execution_count": 51,
   "id": "6b1cba90-717b-4a24-88d7-4170539cc6e5",
   "metadata": {},
   "outputs": [
    {
     "data": {
      "text/plain": [
       "4"
      ]
     },
     "execution_count": 51,
     "metadata": {},
     "output_type": "execute_result"
    }
   ],
   "source": [
    "math.ceil(math.pi)"
   ]
  },
  {
   "cell_type": "code",
   "execution_count": 52,
   "id": "cc2f3c1f-bfcf-47ef-a86e-796040631173",
   "metadata": {},
   "outputs": [
    {
     "data": {
      "text/plain": [
       "3"
      ]
     },
     "execution_count": 52,
     "metadata": {},
     "output_type": "execute_result"
    }
   ],
   "source": [
    "math.floor(math.pi)"
   ]
  },
  {
   "cell_type": "code",
   "execution_count": 53,
   "id": "3314db9c-a5f2-4816-a22e-58325b2a1fac",
   "metadata": {},
   "outputs": [
    {
     "data": {
      "text/plain": [
       "3.0"
      ]
     },
     "execution_count": 53,
     "metadata": {},
     "output_type": "execute_result"
    }
   ],
   "source": [
    "math.sqrt(9)"
   ]
  },
  {
   "cell_type": "code",
   "execution_count": 55,
   "id": "da1eba14-4944-4eb4-8656-a0bac9c2296a",
   "metadata": {},
   "outputs": [
    {
     "data": {
      "text/plain": [
       "3628800"
      ]
     },
     "execution_count": 55,
     "metadata": {},
     "output_type": "execute_result"
    }
   ],
   "source": [
    "math.factorial(10)"
   ]
  },
  {
   "cell_type": "markdown",
   "id": "4e7006a0-530a-4e56-87d5-cb13ae8afdf0",
   "metadata": {},
   "source": [
    "### random"
   ]
  },
  {
   "cell_type": "code",
   "execution_count": 56,
   "id": "fd346f94-f996-4251-af19-c237e67c2363",
   "metadata": {},
   "outputs": [],
   "source": [
    "import random"
   ]
  },
  {
   "cell_type": "code",
   "execution_count": 204,
   "id": "3fed6ddd-53b3-4aa7-9fdd-8ce4cb3810ed",
   "metadata": {},
   "outputs": [
    {
     "data": {
      "text/plain": [
       "0.896149555980516"
      ]
     },
     "execution_count": 204,
     "metadata": {},
     "output_type": "execute_result"
    }
   ],
   "source": [
    "random.random()"
   ]
  },
  {
   "cell_type": "code",
   "execution_count": 205,
   "id": "1b3b7497-0dfa-45f0-9fcd-a1efaaa47307",
   "metadata": {},
   "outputs": [
    {
     "data": {
      "text/plain": [
       "15"
      ]
     },
     "execution_count": 205,
     "metadata": {},
     "output_type": "execute_result"
    }
   ],
   "source": [
    "random.randint(1, 45) # 1부터 10까지 랜덤한 숫자 1개"
   ]
  },
  {
   "cell_type": "code",
   "execution_count": 80,
   "id": "b309c33c-f382-403d-b5e7-fc89414709ec",
   "metadata": {},
   "outputs": [
    {
     "data": {
      "text/plain": [
       "0.052363598850944326"
      ]
     },
     "execution_count": 80,
     "metadata": {},
     "output_type": "execute_result"
    }
   ],
   "source": [
    "random.seed(123) #랜덤한 결과를 일정한 데이터로 고정\n",
    "random.random()"
   ]
  },
  {
   "cell_type": "code",
   "execution_count": 87,
   "id": "bc7f28c2-b295-4eec-b0bf-df6ef71a19bc",
   "metadata": {},
   "outputs": [
    {
     "name": "stdout",
     "output_type": "stream",
     "text": [
      "[2, 5, 1, 4, 3]\n"
     ]
    }
   ],
   "source": [
    "numbers = [1, 2, 3, 4, 5]\n",
    "random.shuffle(numbers)\n",
    "print(numbers)"
   ]
  },
  {
   "cell_type": "code",
   "execution_count": 100,
   "id": "54dac204-616a-4149-9bd2-86468dd32082",
   "metadata": {},
   "outputs": [
    {
     "name": "stdout",
     "output_type": "stream",
     "text": [
      "3\n",
      "4\n"
     ]
    }
   ],
   "source": [
    "print(random.choice(numbers))# 배열 안의 랜덤한 숫자 1개\n",
    "print(random.choice(numbers))"
   ]
  },
  {
   "cell_type": "code",
   "execution_count": 112,
   "id": "fc067489-caee-4e86-b195-bc4f9f40718c",
   "metadata": {},
   "outputs": [
    {
     "data": {
      "text/plain": [
       "[1, 2]"
      ]
     },
     "execution_count": 112,
     "metadata": {},
     "output_type": "execute_result"
    }
   ],
   "source": [
    "#비복원 - 여러개의 데이터\n",
    "random.sample(numbers, 2)"
   ]
  },
  {
   "cell_type": "markdown",
   "id": "af35e066-a22b-416f-8ca3-bf821c2ad779",
   "metadata": {},
   "source": [
    "### datetime\n",
    "날짜와 시간"
   ]
  },
  {
   "cell_type": "code",
   "execution_count": 113,
   "id": "424c83b5-4bb5-4171-880f-b165ef1e192c",
   "metadata": {},
   "outputs": [],
   "source": [
    "from datetime import datetime"
   ]
  },
  {
   "cell_type": "code",
   "execution_count": 154,
   "id": "4946bb18-963a-436e-adc2-9b3a0de9802b",
   "metadata": {},
   "outputs": [
    {
     "data": {
      "text/plain": [
       "datetime.datetime(2024, 7, 2, 10, 45, 1, 221486)"
      ]
     },
     "execution_count": 154,
     "metadata": {},
     "output_type": "execute_result"
    }
   ],
   "source": [
    "datetime.now()"
   ]
  },
  {
   "cell_type": "code",
   "execution_count": 155,
   "id": "f074d68b-bf3d-48a5-beea-a0cf56702461",
   "metadata": {},
   "outputs": [
    {
     "data": {
      "text/plain": [
       "datetime.datetime(2024, 7, 2, 10, 45, 13, 903866)"
      ]
     },
     "execution_count": 155,
     "metadata": {},
     "output_type": "execute_result"
    }
   ],
   "source": [
    "datetime.today()"
   ]
  },
  {
   "cell_type": "code",
   "execution_count": 156,
   "id": "ca77e853-7375-4a51-881d-1b7dcbf3b62a",
   "metadata": {},
   "outputs": [
    {
     "name": "stderr",
     "output_type": "stream",
     "text": [
      "C:\\Users\\2-12\\AppData\\Local\\Temp\\ipykernel_14208\\3983769260.py:1: DeprecationWarning: datetime.datetime.utcnow() is deprecated and scheduled for removal in a future version. Use timezone-aware objects to represent datetimes in UTC: datetime.datetime.now(datetime.UTC).\n",
      "  datetime.utcnow()\n"
     ]
    },
    {
     "data": {
      "text/plain": [
       "datetime.datetime(2024, 7, 2, 1, 45, 33, 859703)"
      ]
     },
     "execution_count": 156,
     "metadata": {},
     "output_type": "execute_result"
    }
   ],
   "source": [
    "datetime.utcnow()"
   ]
  },
  {
   "cell_type": "code",
   "execution_count": 162,
   "id": "0663d668-fb64-4068-8dd9-353278442f0c",
   "metadata": {},
   "outputs": [
    {
     "name": "stdout",
     "output_type": "stream",
     "text": [
      "2024-07-02 10:58:40.083257\n"
     ]
    },
    {
     "data": {
      "text/plain": [
       "'2024년 July월 02일 Tue'"
      ]
     },
     "execution_count": 162,
     "metadata": {},
     "output_type": "execute_result"
    }
   ],
   "source": [
    "now = datetime.now()\n",
    "print(now)\n",
    "now.strftime('%Y년 %B월 %d일 %a')"
   ]
  },
  {
   "cell_type": "code",
   "execution_count": 163,
   "id": "c035220b-c298-4a78-a2fc-64be87452e0e",
   "metadata": {},
   "outputs": [
    {
     "data": {
      "text/plain": [
       "2024"
      ]
     },
     "execution_count": 163,
     "metadata": {},
     "output_type": "execute_result"
    }
   ],
   "source": [
    "now.year"
   ]
  },
  {
   "cell_type": "code",
   "execution_count": 164,
   "id": "24b05b85-859a-4818-b410-be45e5ff8e6f",
   "metadata": {},
   "outputs": [
    {
     "data": {
      "text/plain": [
       "7"
      ]
     },
     "execution_count": 164,
     "metadata": {},
     "output_type": "execute_result"
    }
   ],
   "source": [
    "now.month"
   ]
  },
  {
   "cell_type": "code",
   "execution_count": 165,
   "id": "cb4c580d-7655-42e7-8b1d-4db488109c46",
   "metadata": {},
   "outputs": [
    {
     "data": {
      "text/plain": [
       "1"
      ]
     },
     "execution_count": 165,
     "metadata": {},
     "output_type": "execute_result"
    }
   ],
   "source": [
    "now.weekday()"
   ]
  },
  {
   "cell_type": "code",
   "execution_count": 166,
   "id": "1170831e-3145-47f4-9ae7-0d64d32c8fd3",
   "metadata": {},
   "outputs": [
    {
     "name": "stdout",
     "output_type": "stream",
     "text": [
      "2024-12-25 00:00:00\n"
     ]
    }
   ],
   "source": [
    "x_mas = datetime(2024, 12, 25)\n",
    "print(x_mas)"
   ]
  },
  {
   "cell_type": "code",
   "execution_count": 167,
   "id": "4c663c22-d52a-4f7a-9762-57c27f063a5d",
   "metadata": {},
   "outputs": [],
   "source": [
    "from datetime import timedelta"
   ]
  },
  {
   "cell_type": "code",
   "execution_count": 169,
   "id": "f853771a-9353-45b8-8810-4813765e7c28",
   "metadata": {},
   "outputs": [
    {
     "name": "stdout",
     "output_type": "stream",
     "text": [
      "3 days, 0:00:00\n"
     ]
    }
   ],
   "source": [
    "future = timedelta(days=3)\n",
    "print(future)"
   ]
  },
  {
   "cell_type": "code",
   "execution_count": 170,
   "id": "a82c863a-29a8-4900-8229-eac99e1ab15a",
   "metadata": {},
   "outputs": [
    {
     "data": {
      "text/plain": [
       "datetime.datetime(2024, 12, 28, 0, 0)"
      ]
     },
     "execution_count": 170,
     "metadata": {},
     "output_type": "execute_result"
    }
   ],
   "source": [
    "x_mas + future"
   ]
  },
  {
   "cell_type": "code",
   "execution_count": 171,
   "id": "60073766-abd4-4cd4-8006-7b9965235b1b",
   "metadata": {},
   "outputs": [
    {
     "name": "stdout",
     "output_type": "stream",
     "text": [
      "182 days, 12:54:56.725520\n"
     ]
    }
   ],
   "source": [
    "new_year = datetime(2025, 1, 1)\n",
    "now = datetime.now()\n",
    "\n",
    "print(new_year - now)"
   ]
  },
  {
   "cell_type": "code",
   "execution_count": 173,
   "id": "6d3fae9b-fcab-4b47-986e-ab3a422b6c3f",
   "metadata": {},
   "outputs": [
    {
     "name": "stdout",
     "output_type": "stream",
     "text": [
      "2024-10-10 11:05:59.217159\n"
     ]
    }
   ],
   "source": [
    "now = datetime.now()\n",
    "d100 = timedelta(days=100)\n",
    "print(now + d100)"
   ]
  },
  {
   "cell_type": "markdown",
   "id": "6213c00a-939c-4c81-a236-762e1e20511f",
   "metadata": {},
   "source": [
    "## 라이브러리(외장 패키지)"
   ]
  },
  {
   "cell_type": "code",
   "execution_count": 174,
   "id": "53acfa36-1e1b-413d-b9a1-393a01009c16",
   "metadata": {},
   "outputs": [],
   "source": [
    "import requests"
   ]
  },
  {
   "cell_type": "code",
   "execution_count": 182,
   "id": "9fcea7b5-d012-478d-9ec6-67f7fc4769fa",
   "metadata": {},
   "outputs": [
    {
     "name": "stdout",
     "output_type": "stream",
     "text": [
      "<Response [200]>\n"
     ]
    }
   ],
   "source": [
    "payload = {'query': '야구'}\n",
    "\n",
    "r = requests.get('https://search.naver.com/search.naver', params=payload)\n",
    "print(r)"
   ]
  },
  {
   "cell_type": "code",
   "execution_count": 185,
   "id": "0f06e66e-95d6-4c4e-bb21-20c1f13b5d01",
   "metadata": {},
   "outputs": [
    {
     "name": "stdout",
     "output_type": "stream",
     "text": [
      "<Response [200]>\n"
     ]
    }
   ],
   "source": [
    "payload = {'q': '동아일보'}\n",
    "\n",
    "r = requests.get('https://www.google.com/search', params=payload)\n",
    "print(r)"
   ]
  },
  {
   "cell_type": "code",
   "execution_count": 244,
   "id": "a4e966b0-4859-4630-a50b-4e0338def79c",
   "metadata": {},
   "outputs": [
    {
     "name": "stdout",
     "output_type": "stream",
     "text": [
      "{'totSellamnt': 111998191000, 'returnValue': 'success', 'drwNoDate': '2024-06-29', 'firstWinamnt': 2386382421, 'drwtNo6': 40, 'drwtNo4': 11, 'firstPrzwnerCo': 11, 'drwtNo5': 37, 'bnusNo': 7, 'firstAccumamnt': 26250206631, 'drwNo': 1126, 'drwtNo2': 5, 'drwtNo3': 9, 'drwtNo1': 4}\n"
     ]
    }
   ],
   "source": [
    "payload = {\n",
    "    'method': 'getLottoNumber', \n",
    "    'drwNo': 1126\n",
    "}\n",
    "r = requests.get('https://www.dhlottery.co.kr/common.do', params=payload)\n",
    "print(r.json())\n",
    "# print(type(r.json()))\n",
    "lotto_dict = r.json()"
   ]
  },
  {
   "cell_type": "code",
   "execution_count": 246,
   "id": "45f43710-0467-417b-ba12-a3c198aa104f",
   "metadata": {},
   "outputs": [
    {
     "name": "stdout",
     "output_type": "stream",
     "text": [
      "4\n",
      "5\n",
      "9\n",
      "11\n",
      "37\n",
      "40\n",
      "7\n",
      "[4, 5]\n"
     ]
    }
   ],
   "source": [
    "print(lotto_dict['drwtNo1'])\n",
    "print(lotto_dict['drwtNo2'])\n",
    "print(lotto_dict['drwtNo3'])\n",
    "print(lotto_dict['drwtNo4'])\n",
    "print(lotto_dict['drwtNo5'])\n",
    "print(lotto_dict['drwtNo6'])\n",
    "print(lotto_dict['bnusNo'])\n",
    "\n",
    "week_lotto = [lotto_dict['drwtNo1'], lotto_dict['drwtNo2'], lotto_dict['drwtNo3'],]\n",
    "print(week_lotto)\n"
   ]
  },
  {
   "cell_type": "code",
   "execution_count": 229,
   "id": "c90e5e99-c44b-4482-b3a7-e31b7c96aa3d",
   "metadata": {},
   "outputs": [
    {
     "name": "stdout",
     "output_type": "stream",
     "text": [
      "{'totSellamnt': 111998191000, 'returnValue': 'success', 'drwNoDate': '2024-06-29', 'firstWinamnt': 2386382421, 'drwtNo6': 40, 'drwtNo4': 11, 'firstPrzwnerCo': 11, 'drwtNo5': 37, 'bnusNo': 7, 'firstAccumamnt': 26250206631, 'drwNo': 1126, 'drwtNo2': 5, 'drwtNo3': 9, 'drwtNo1': 4}\n"
     ]
    }
   ],
   "source": [
    "print(lotto_dict)"
   ]
  },
  {
   "cell_type": "code",
   "execution_count": 230,
   "id": "0fb02138-4b56-430b-a06f-f5c7df38079b",
   "metadata": {},
   "outputs": [
    {
     "data": {
      "text/plain": [
       "40"
      ]
     },
     "execution_count": 230,
     "metadata": {},
     "output_type": "execute_result"
    }
   ],
   "source": [
    "random.randint(1, 45)"
   ]
  },
  {
   "cell_type": "code",
   "execution_count": 282,
   "id": "a9594590-96fd-4de4-b04f-fc15479ccae4",
   "metadata": {},
   "outputs": [
    {
     "name": "stdout",
     "output_type": "stream",
     "text": [
      "{'1회차': [13, 11, 3, 24, 4, 38], '2회차': [7, 32, 24, 27, 12, 45], '3회차': [43, 40, 5, 15, 37, 25], '4회차': [9, 33, 7, 32, 34, 15], '5회차': [41, 34, 32, 22, 21, 39]}\n",
      "이번주 당첨 번호: [40, 11, 37, 5, 9, 4], 보너스 번호: 7\n",
      "{'1회차': [13, 11, 3, 24, 4, 38],\n",
      " '2회차': [7, 32, 24, 27, 12, 45],\n",
      " '3회차': [43, 40, 5, 15, 37, 25],\n",
      " '4회차': [9, 33, 7, 32, 34, 15],\n",
      " '5회차': [41, 34, 32, 22, 21, 39]}\n",
      "낙첨\n",
      "낙첨\n",
      "당첨! 5등! 5천원\n",
      "낙첨\n",
      "낙첨\n"
     ]
    }
   ],
   "source": [
    "i = 0\n",
    "my_numbers = {}\n",
    "while i < 5:\n",
    "    random_number = random.sample(range(1, 46), 6)\n",
    "    i += 1\n",
    "    my_numbers[f'{i}회차'] = random_number\n",
    "print(my_numbers)\n",
    "\n",
    "lucky_number = []\n",
    "bonus_number = lotto_dict['bnusNo']\n",
    "\n",
    "for key, value in lotto_dict.items():\n",
    "    if 'drwtNo' in key:\n",
    "        lucky_number.append(value)\n",
    "\n",
    "print(f'이번주 당첨 번호: {lucky_number}, 보너스 번호: {bonus_number}')\n",
    "\n",
    "from pprint import pprint\n",
    "pprint(my_numbers)\n",
    "\n",
    "for my_number in my_numbers.values():\n",
    "    my_number_set = set(my_number)\n",
    "    lucky_number_set = set(lucky_number)\n",
    "\n",
    "    match_cnt = len(my_number_set & lucky_number_set)\n",
    "    if match_cnt == 6:\n",
    "        print('당첨! 1등!')\n",
    "    elif match_cnt == 5 and (bonus_number in lucky_number):\n",
    "        print('당첨! 2등!')\n",
    "    elif match_cnt == 5:\n",
    "        print('당첨! 3등!')\n",
    "    elif match_cnt == 4:\n",
    "        print('당첨! 4등!')\n",
    "    elif match_cnt == 3:\n",
    "        print('당첨! 5등! 5천원')\n",
    "    else:\n",
    "        print('낙첨')\n",
    "\n",
    "\n",
    "        \n",
    "        \n",
    "        \n",
    "        \n",
    "\n",
    "    "
   ]
  },
  {
   "cell_type": "code",
   "execution_count": 273,
   "id": "19639be5-61e3-4afb-a8a1-51268217c76e",
   "metadata": {},
   "outputs": [],
   "source": [
    "# my_numbers = {}\n",
    "\n",
    "# for i in range(1, 6):\n",
    "#     random_number = random.sample(range(1, 46), 6)\n",
    "#     my_numbers[f'{i}회차'] = random_number\n",
    "\n",
    "# print(my_numbers)"
   ]
  },
  {
   "cell_type": "code",
   "execution_count": 274,
   "id": "b5ded9a1-bbc3-4fb0-8dde-eb2b616e97c2",
   "metadata": {},
   "outputs": [],
   "source": [
    "# lucky_number = []\n",
    "# bonus_number = lotto_dict['bnusNo']\n",
    "\n",
    "# for key, value in lotto_dict.items():\n",
    "#     if 'drwtNo' in key:\n",
    "#         lucky_number.append(value)\n",
    "\n",
    "# print(f'이번주 당첨번호 : {lucky_number}, BN: {bonus_number}')"
   ]
  },
  {
   "cell_type": "code",
   "execution_count": 266,
   "id": "92318ed1-0c0c-41f1-86d8-8d70e04a93a7",
   "metadata": {},
   "outputs": [],
   "source": [
    "# from pprint import pprint\n",
    "# pprint(my_numbers)"
   ]
  },
  {
   "cell_type": "code",
   "execution_count": 267,
   "id": "fc19a3ff-08fe-44c7-b981-50dff12543f1",
   "metadata": {},
   "outputs": [],
   "source": [
    "# for my_number in my_numbers.values():\n",
    "#     set_my = set(my_number)\n",
    "#     set_lucky = set(lucky_number)\n",
    "\n",
    "#     match_cnt = len(set_my & set_lucky)\n",
    "#     if match_cnt == 6:\n",
    "#         print('1등!')\n",
    "#     elif match_cnt == 5 and (bonus_number in my_number):\n",
    "#         print('2등!')\n",
    "#     elif match_cnt == 5:\n",
    "#         print('3등!')\n",
    "#     elif match_cnt == 4:\n",
    "#         print('4등!')\n",
    "#     elif match_cnt == 3:\n",
    "#         print('5등!')\n",
    "#     else:\n",
    "#         print('낙첨')\n",
    "        "
   ]
  },
  {
   "cell_type": "code",
   "execution_count": null,
   "id": "1a82c550-44f1-4c6b-b49b-c525dbee7bc8",
   "metadata": {},
   "outputs": [],
   "source": []
  },
  {
   "cell_type": "code",
   "execution_count": null,
   "id": "a9104b8f-15eb-4e2b-995d-1ec6fd307ec7",
   "metadata": {},
   "outputs": [],
   "source": []
  },
  {
   "cell_type": "code",
   "execution_count": null,
   "id": "34a5b3af-5e00-41a6-b8f2-f374f7169ff7",
   "metadata": {},
   "outputs": [],
   "source": []
  },
  {
   "cell_type": "code",
   "execution_count": null,
   "id": "6faaf265-5b08-445c-b238-f0764ea38182",
   "metadata": {},
   "outputs": [],
   "source": []
  },
  {
   "cell_type": "code",
   "execution_count": null,
   "id": "a2414033-5c23-4a86-95e9-6ee3fd86b895",
   "metadata": {},
   "outputs": [],
   "source": []
  },
  {
   "cell_type": "code",
   "execution_count": null,
   "id": "ecb41b83-8337-4554-8338-001bd1e64721",
   "metadata": {},
   "outputs": [],
   "source": []
  },
  {
   "cell_type": "markdown",
   "id": "b9da7310-aec1-4332-9891-9cdf740ddae2",
   "metadata": {},
   "source": []
  }
 ],
 "metadata": {
  "kernelspec": {
   "display_name": "Python 3 (ipykernel)",
   "language": "python",
   "name": "python3"
  },
  "language_info": {
   "codemirror_mode": {
    "name": "ipython",
    "version": 3
   },
   "file_extension": ".py",
   "mimetype": "text/x-python",
   "name": "python",
   "nbconvert_exporter": "python",
   "pygments_lexer": "ipython3",
   "version": "3.12.4"
  }
 },
 "nbformat": 4,
 "nbformat_minor": 5
}
